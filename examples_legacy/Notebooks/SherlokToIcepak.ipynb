{
 "cells": [
  {
   "cell_type": "markdown",
   "metadata": {},
   "source": [
    "------------------------------------------------------------------------------------------------------------------------------------\n",
    "\n",
    "# This Example shows how to use advanced postprocessing functions to create plots using MatPlotLib without opening HFSS UI\n",
    "-------------------------------------------------------------------------------------------------------------------------------------"
   ]
  },
  {
   "cell_type": "code",
   "execution_count": 1,
   "metadata": {},
   "outputs": [
    {
     "name": "stdout",
     "output_type": "stream",
     "text": [
      "C:\\Users\\mcapodif\\AppData\\Local\\Temp\\Example_JXC5GM\n"
     ]
    }
   ],
   "source": [
    "import time\n",
    "import os\n",
    "import datetime\n",
    "import pathlib\n",
    "import sys\n",
    "\n",
    "local_path = os.path.abspath('')\n",
    "module_path = pathlib.Path(local_path)\n",
    "aedt_lib_path = module_path.parent.parent.parent\n",
    "example_path =os.path.join(module_path.parent.parent,\"Examples\",\"Examples_Files\")\n",
    "sys.path.append(os.path.join(aedt_lib_path))\n",
    "from pyaedt import generate_unique_name\n",
    "project_dir = os.path.join(os.environ[\"TEMP\"], generate_unique_name(\"Example\"))\n",
    "if not os.path.exists(project_dir): os.makedirs(project_dir)\n",
    "print(project_dir)\n"
   ]
  },
  {
   "cell_type": "markdown",
   "metadata": {},
   "source": [
    "# Input Variables"
   ]
  },
  {
   "cell_type": "code",
   "execution_count": 2,
   "metadata": {},
   "outputs": [],
   "source": [
    "input_path = os.path.join(aedt_lib_path,\"pyaedt\", \"Examples_Files\")\n",
    "material_name = 'MaterialExport.csv'\n",
    "component_properties =  'Tutorial Board Parts List.csv'\n",
    "component_step = 'Tutorial Board.stp'\n",
    "aedt_odb_project = 'SherkockTutorial.aedt'\n",
    "aedt_odb_design_name = \"PCB\"\n",
    "stackup_thickness = 2.11836\n",
    "outline_polygon_name = \"poly_14188\""
   ]
  },
  {
   "cell_type": "markdown",
   "metadata": {},
   "source": [
    "# Import pyaedt and start AEDT\n",
    "\n",
    "AEDT will run in nongraphical mode"
   ]
  },
  {
   "cell_type": "code",
   "execution_count": 3,
   "metadata": {},
   "outputs": [
    {
     "name": "stdout",
     "output_type": "stream",
     "text": [
      "Info: Using Windows TaskManager to Load processes\n",
      "Info: Ansoft.ElectronicsDesktop.2021.1 Started with Process ID 28120\n",
      "Info: pyaedt v0.5.0 started\n",
      "Info: Started external COM connection with module pythonnet_v3\n",
      "Info: Python version 3.8.5 (default, Sep  3 2020, 21:29:08) [MSC v.1916 64 bit (AMD64)]\n",
      "Info: Exe path: C:\\Anaconda3\\python.exe\n"
     ]
    }
   ],
   "source": [
    "from pyaedt import Icepak\n",
    "from pyaedt import Desktop\n",
    "d=Desktop(\"2021.1\", NG=False)\n",
    "start = time.time()\n",
    "material_list = os.path.join(example_path, material_name)\n",
    "component_list = os.path.join(example_path, component_properties)\n",
    "validation=os.path.join(project_dir, \"validation.log\")\n",
    "file_path=os.path.join(example_path, component_step)\n",
    "project_name=os.path.join(project_dir, component_step[:-3]+\"aedt\")"
   ]
  },
  {
   "cell_type": "code",
   "execution_count": 4,
   "metadata": {},
   "outputs": [],
   "source": [
    "# Create an Icepak project and delete Region to improve performances"
   ]
  },
  {
   "cell_type": "code",
   "execution_count": 5,
   "metadata": {},
   "outputs": [
    {
     "name": "stdout",
     "output_type": "stream",
     "text": [
      "Warning: No design present - inserting a new design\n",
      "Info: Added design 'Icepak_LO6' of type Icepak\n",
      "Info: Design Loaded\n",
      "Info: Successfully loaded project materials !\n",
      "Info: Materials Loaded\n",
      "Info: Deleted 1 Objects\n"
     ]
    }
   ],
   "source": [
    "ipk = Icepak()\n",
    "#Removing region and disabling autosave to speedup import\n",
    "d.disable_autosave()\n",
    "ipk.modeler.primitives.delete(\"Region\")\n",
    "component_name = \"from_ODB\""
   ]
  },
  {
   "cell_type": "markdown",
   "metadata": {},
   "source": [
    "# Import PCB from aedb file"
   ]
  },
  {
   "cell_type": "code",
   "execution_count": 6,
   "metadata": {},
   "outputs": [
    {
     "name": "stdout",
     "output_type": "stream",
     "text": [
      "Info: Closing the specified SherkockTutorial AEDT Project\n",
      "Info: PCB Component Correctly created in Icepak\n"
     ]
    },
    {
     "data": {
      "text/plain": "True"
     },
     "execution_count": 6,
     "metadata": {},
     "output_type": "execute_result"
    }
   ],
   "source": [
    "odb_path = os.path.join(example_path, aedt_odb_project)\n",
    "ipk.create_pcb_from_3dlayout(component_name, odb_path, aedt_odb_design_name,extenttype=\"Polygon\",\n",
    "                               outlinepolygon=outline_polygon_name)"
   ]
  },
  {
   "cell_type": "markdown",
   "metadata": {},
   "source": [
    "# create an offset Coordinate system to match odb++ with sherlock step file"
   ]
  },
  {
   "cell_type": "code",
   "execution_count": 7,
   "metadata": {},
   "outputs": [
    {
     "data": {
      "text/plain": "<pyaedt.core.Modeler.Modeler.CoordinateSystem at 0x15e5438dfd0>"
     },
     "execution_count": 7,
     "metadata": {},
     "output_type": "execute_result"
    }
   ],
   "source": [
    "ipk.modeler.coordinate_system.create([0,0,stackup_thickness/2],view=\"XY\")"
   ]
  },
  {
   "cell_type": "markdown",
   "metadata": {},
   "source": [
    "# import cad"
   ]
  },
  {
   "cell_type": "code",
   "execution_count": 8,
   "metadata": {},
   "outputs": [
    {
     "name": "stdout",
     "output_type": "stream",
     "text": [
      "Info: Step file C:\\GIT\\repos\\pyaedt\\pyaedt\\Examples\\Examples_Files\\Tutorial Board.stp imported\n",
      "Info: Saving Project138 Project\n"
     ]
    },
    {
     "data": {
      "text/plain": "True"
     },
     "execution_count": 8,
     "metadata": {},
     "output_type": "execute_result"
    }
   ],
   "source": [
    "ipk.modeler.import_3d_cad(file_path, refresh_all_ids=False)\n",
    "#save cad and refresh properties from aedt file parsing\n",
    "ipk.save_project(project_name, refresh_obj_ids_after_save=True)"
   ]
  },
  {
   "cell_type": "markdown",
   "metadata": {},
   "source": [
    "# removing pcb objects"
   ]
  },
  {
   "cell_type": "code",
   "execution_count": 9,
   "metadata": {},
   "outputs": [
    {
     "name": "stdout",
     "output_type": "stream",
     "text": [
      "Info: Deleted 1 Objects\n",
      "Info: Deleted 1 objects\n"
     ]
    },
    {
     "data": {
      "text/plain": "True"
     },
     "execution_count": 9,
     "metadata": {},
     "output_type": "execute_result"
    }
   ],
   "source": [
    "ipk.modeler.primitives.delete_objects_containing(\"pcb\", False)"
   ]
  },
  {
   "cell_type": "markdown",
   "metadata": {},
   "source": [
    "# Creating Region"
   ]
  },
  {
   "cell_type": "code",
   "execution_count": 10,
   "metadata": {},
   "outputs": [
    {
     "data": {
      "text/plain": "6"
     },
     "execution_count": 10,
     "metadata": {},
     "output_type": "execute_result"
    }
   ],
   "source": [
    "ipk.modeler.create_air_region(*[20,20,300,20,20,300])"
   ]
  },
  {
   "cell_type": "markdown",
   "metadata": {},
   "source": [
    "# assigning Materials\n"
   ]
  },
  {
   "cell_type": "code",
   "execution_count": 11,
   "metadata": {},
   "outputs": [
    {
     "name": "stdout",
     "output_type": "stream",
     "text": [
      "Info: Adding New Material material to Project Library: alumina\n",
      "Info: Material added. Please edit it to update in Desktop\n",
      "Info: Assign Material alumina to object COMP_R1,COMP_R2,COMP_R3,COMP_R4,COMP_R5,COMP_R6,COMP_R7,COMP_R8,COMP_R9,COMP_R10,COMP_R11,COMP_R12,COMP_R13,COMP_R14,COMP_R15,COMP_R16,COMP_R17,COMP_R18,COMP_R19,COMP_R20,COMP_R21,COMP_R22,COMP_R23,COMP_R24,COMP_R25,...\n",
      "Info: Assign Material aluminum to object COMP_C21,COMP_C22,COMP_C23,COMP_C24,COMP_C25,COMP_C26,COMP_C27,COMP_C28,COMP_C29,COMP_C30\n",
      "Info: Adding New Material material to Project Library: bariumtitanate\n",
      "Info: Material added. Please edit it to update in Desktop\n",
      "Info: Assign Material bariumtitanate to object COMP_C11,COMP_C12,COMP_C13,COMP_C14,COMP_C15,COMP_C16,COMP_C17,COMP_C18,COMP_C19,COMP_C20\n",
      "Info: Assign Material copper to object COMP_J1\n",
      "Info: Adding New Material material to Project Library: epoxyencapsulant\n",
      "Info: Material added. Please edit it to update in Desktop\n",
      "Info: Assign Material epoxyencapsulant to object COMP_Q1,COMP_Q2,COMP_Q3,COMP_Q4,COMP_Q5,COMP_Q6,COMP_Q7,COMP_Q8,COMP_Q9,COMP_Q10,COMP_Q11,COMP_Q12,COMP_Q13,COMP_Q14,COMP_Q15,COMP_Q16,COMP_U1,COMP_U2,COMP_U3,COMP_U4,COMP_U5,COMP_U6,COMP_U7,COMP_U8,COMP_U11...\n",
      "Info: Adding New Material material to Project Library: laminate-bga\n",
      "Info: Material added. Please edit it to update in Desktop\n",
      "Info: DATASET laminate_bgamass_densityTH0 doesn't exists.\n",
      "Info: Property Data Set: laminate_bgamass_densityTH0\n",
      "Info: DATASET laminate_bgamass_densityTH0 doesn't exists.\n",
      "Info: DATASET laminate_bgayoungs_modulusTH0 doesn't exists.\n",
      "Info: Property Data Set: laminate_bgayoungs_modulusTH0\n",
      "Info: DATASET laminate_bgayoungs_modulusTH0 doesn't exists.\n",
      "Info: DATASET $laminate_bgamass_densityTH0 exists.\n",
      "Info: DATASET $laminate_bgayoungs_modulusTH0 exists.\n",
      "Info: Assign Material laminate-bga to object COMP_U9,COMP_U10\n",
      "Info: Assign Material tantalum to object COMP_C1,COMP_C2,COMP_C3,COMP_C4,COMP_C5,COMP_C6,COMP_C7,COMP_C8,COMP_C9,COMP_C10\n"
     ]
    },
    {
     "data": {
      "text/plain": "True"
     },
     "execution_count": 11,
     "metadata": {},
     "output_type": "execute_result"
    }
   ],
   "source": [
    "ipk.assignmaterial_from_sherlock_files(component_list, material_list)"
   ]
  },
  {
   "cell_type": "markdown",
   "metadata": {},
   "source": [
    "# Deleting Object with no material Assignment"
   ]
  },
  {
   "cell_type": "code",
   "execution_count": 12,
   "metadata": {},
   "outputs": [],
   "source": [
    "#ipk.create_source_blocks_from_list([[\"COMP_R3\",1,2,3],[\"COMP_R4\",4,5,6]], False)\n"
   ]
  },
  {
   "cell_type": "code",
   "execution_count": 13,
   "metadata": {},
   "outputs": [],
   "source": [
    "#ipk.create_network_blocks([[\"COMP_R1\",20,10,3],[\"COMP_R2\",4,10,3]],ipk.GravityDirection.ZNeg,1.05918,False)"
   ]
  },
  {
   "cell_type": "code",
   "execution_count": 14,
   "metadata": {},
   "outputs": [
    {
     "name": "stdout",
     "output_type": "stream",
     "text": [
      "Info: Deleted 0 Objects\n",
      "Info: Saving Tutorial Board Project\n"
     ]
    },
    {
     "data": {
      "text/plain": "True"
     },
     "execution_count": 14,
     "metadata": {},
     "output_type": "execute_result"
    }
   ],
   "source": [
    "no_material_objs = ipk.modeler.primitives.get_objects_by_material(\"\")\n",
    "ipk.modeler.primitives.delete(no_material_objs)\n",
    "#ipk.modeler.set_object_model_state(all_objs, False)\n",
    "ipk.save_project()"
   ]
  },
  {
   "cell_type": "markdown",
   "metadata": {},
   "source": [
    "# Assign Power to Component Blocks"
   ]
  },
  {
   "cell_type": "code",
   "execution_count": 15,
   "metadata": {},
   "outputs": [
    {
     "name": "stdout",
     "output_type": "stream",
     "text": [
      "Info: Blocks inserted with total power 34.2000000000002W\n"
     ]
    }
   ],
   "source": [
    "all_objects = ipk.modeler.primitives.get_all_objects_names()\n",
    "# Assign Power blocks\n",
    "total_power = ipk.assign_block_from_sherlock_file(component_list)"
   ]
  },
  {
   "cell_type": "markdown",
   "metadata": {},
   "source": [
    "# Setup and Boundaries"
   ]
  },
  {
   "cell_type": "code",
   "execution_count": 16,
   "metadata": {},
   "outputs": [
    {
     "name": "stdout",
     "output_type": "stream",
     "text": [
      "Info: Face List boundary_faces created\n",
      "Info: Opening Assigned\n"
     ]
    },
    {
     "data": {
      "text/plain": "<pyaedt.core.modules.Boundary.BoundaryObject at 0x15e56e4e400>"
     },
     "execution_count": 16,
     "metadata": {},
     "output_type": "execute_result"
    }
   ],
   "source": [
    "ipk.mesh.automatic_mesh_pcb(4)\n",
    "\n",
    "setup1 = ipk.create_setup()\n",
    "setup1.props[\"Solution Initialization - Y Velocity\"] =  \"1m_per_sec\"\n",
    "setup1.props[\"Radiation Model\"] =\"Discrete Ordinates Model\"\n",
    "setup1.props[\"Include Gravity\"] =True\n",
    "setup1.props[\"Secondary Gradient\"] =True\n",
    "setup1.update()\n",
    "ipk.assign_openings(ipk.modeler.primitives.get_object_faces(\"Region\"))"
   ]
  },
  {
   "cell_type": "markdown",
   "metadata": {},
   "source": [
    "# Check for intersection using Validation and fix it by assigning Priorities"
   ]
  },
  {
   "cell_type": "code",
   "execution_count": 17,
   "metadata": {},
   "outputs": [
    {
     "name": "stdout",
     "output_type": "stream",
     "text": [
      "Info: Saving Tutorial Board Project\n",
      "0 Intersections have been found. Applying Priorities\n",
      "Info: Saving Tutorial Board Project\n"
     ]
    },
    {
     "data": {
      "text/plain": "True"
     },
     "execution_count": 17,
     "metadata": {},
     "output_type": "execute_result"
    }
   ],
   "source": [
    "ipk.assign_priority_on_intersections()\n",
    "# Saving and closing\n",
    "ipk.save_project()"
   ]
  },
  {
   "cell_type": "code",
   "execution_count": 18,
   "metadata": {},
   "outputs": [
    {
     "name": "stdout",
     "output_type": "stream",
     "text": [
      "Elapsed time: 0:00:44.151753\n"
     ]
    }
   ],
   "source": [
    "end = time.time()-start\n",
    "ipk.close_desktop()\n",
    "print(\"Elapsed time: {}\".format(datetime.timedelta(seconds=end)))"
   ]
  },
  {
   "cell_type": "code",
   "execution_count": 19,
   "metadata": {},
   "outputs": [
    {
     "ename": "AttributeError",
     "evalue": "module '__main__' has no attribute 'oDesktop'",
     "output_type": "error",
     "traceback": [
      "\u001B[1;31m---------------------------------------------------------------------------\u001B[0m",
      "\u001B[1;31mAttributeError\u001B[0m                            Traceback (most recent call last)",
      "\u001B[1;32m<ipython-input-19-da0d5a58f503>\u001B[0m in \u001B[0;36m<module>\u001B[1;34m\u001B[0m\n\u001B[1;32m----> 1\u001B[1;33m \u001B[0md\u001B[0m\u001B[1;33m.\u001B[0m\u001B[0mforce_close_desktop\u001B[0m\u001B[1;33m(\u001B[0m\u001B[1;33m)\u001B[0m\u001B[1;33m\u001B[0m\u001B[1;33m\u001B[0m\u001B[0m\n\u001B[0m\u001B[0;32m      2\u001B[0m \u001B[1;33m\u001B[0m\u001B[0m\n",
      "\u001B[1;32mC:\\GIT\\repos\\pyaedt\\pyaedt\\core\\desktop.py\u001B[0m in \u001B[0;36mforce_close_desktop\u001B[1;34m(self)\u001B[0m\n\u001B[0;32m    497\u001B[0m \u001B[1;33m\u001B[0m\u001B[0m\n\u001B[0;32m    498\u001B[0m     \u001B[1;32mdef\u001B[0m \u001B[0mforce_close_desktop\u001B[0m\u001B[1;33m(\u001B[0m\u001B[0mself\u001B[0m\u001B[1;33m)\u001B[0m\u001B[1;33m:\u001B[0m\u001B[1;33m\u001B[0m\u001B[1;33m\u001B[0m\u001B[0m\n\u001B[1;32m--> 499\u001B[1;33m         \u001B[0mforce_close_desktop\u001B[0m\u001B[1;33m(\u001B[0m\u001B[1;33m)\u001B[0m\u001B[1;33m\u001B[0m\u001B[1;33m\u001B[0m\u001B[0m\n\u001B[0m\u001B[0;32m    500\u001B[0m \u001B[1;33m\u001B[0m\u001B[0m\n\u001B[0;32m    501\u001B[0m     \u001B[1;32mdef\u001B[0m \u001B[0mclose_desktop\u001B[0m\u001B[1;33m(\u001B[0m\u001B[0mself\u001B[0m\u001B[1;33m)\u001B[0m\u001B[1;33m:\u001B[0m\u001B[1;33m\u001B[0m\u001B[1;33m\u001B[0m\u001B[0m\n",
      "\u001B[1;32mC:\\GIT\\repos\\pyaedt\\pyaedt\\core\\desktop.py\u001B[0m in \u001B[0;36mforce_close_desktop\u001B[1;34m()\u001B[0m\n\u001B[0;32m    226\u001B[0m     \"\"\"\n\u001B[0;32m    227\u001B[0m     \u001B[0mModule\u001B[0m \u001B[1;33m=\u001B[0m \u001B[0msys\u001B[0m\u001B[1;33m.\u001B[0m\u001B[0mmodules\u001B[0m\u001B[1;33m[\u001B[0m\u001B[1;34m'__main__'\u001B[0m\u001B[1;33m]\u001B[0m\u001B[1;33m\u001B[0m\u001B[1;33m\u001B[0m\u001B[0m\n\u001B[1;32m--> 228\u001B[1;33m     \u001B[0mpid\u001B[0m \u001B[1;33m=\u001B[0m \u001B[0mModule\u001B[0m\u001B[1;33m.\u001B[0m\u001B[0moDesktop\u001B[0m\u001B[1;33m.\u001B[0m\u001B[0mGetProcessID\u001B[0m\u001B[1;33m(\u001B[0m\u001B[1;33m)\u001B[0m\u001B[1;33m\u001B[0m\u001B[1;33m\u001B[0m\u001B[0m\n\u001B[0m\u001B[0;32m    229\u001B[0m     \u001B[1;32mif\u001B[0m \u001B[0mpid\u001B[0m \u001B[1;33m>\u001B[0m \u001B[1;36m0\u001B[0m\u001B[1;33m:\u001B[0m\u001B[1;33m\u001B[0m\u001B[1;33m\u001B[0m\u001B[0m\n\u001B[0;32m    230\u001B[0m         \u001B[1;32mtry\u001B[0m\u001B[1;33m:\u001B[0m\u001B[1;33m\u001B[0m\u001B[1;33m\u001B[0m\u001B[0m\n",
      "\u001B[1;31mAttributeError\u001B[0m: module '__main__' has no attribute 'oDesktop'"
     ]
    }
   ],
   "source": [
    "d.force_close_desktop()"
   ]
  },
  {
   "cell_type": "code",
   "execution_count": null,
   "metadata": {},
   "outputs": [],
   "source": []
  }
 ],
 "metadata": {
  "kernelspec": {
   "display_name": "Python 3",
   "language": "python",
   "name": "python3"
  },
  "language_info": {
   "codemirror_mode": {
    "name": "ipython",
    "version": 3
   },
   "file_extension": ".py",
   "mimetype": "text/x-python",
   "name": "python",
   "nbconvert_exporter": "python",
   "pygments_lexer": "ipython3",
   "version": "3.8.5"
  }
 },
 "nbformat": 4,
 "nbformat_minor": 4
}