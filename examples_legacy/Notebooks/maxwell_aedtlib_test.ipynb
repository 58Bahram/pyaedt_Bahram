{
 "cells": [
  {
   "cell_type": "markdown",
   "metadata": {},
   "source": [
    "## Simple pyaedt Example\n",
    "**1. Set the path to the pyaedt and run imports**"
   ]
  },
  {
   "cell_type": "code",
   "execution_count": 1,
   "metadata": {},
   "outputs": [
    {
     "name": "stdout",
     "output_type": "stream",
     "text": [
      "C:\\Users\\mcapodif\\AppData\\Local\\Temp\\Example_XD6HPF\n"
     ]
    }
   ],
   "source": [
    "import sys\n",
    "import os\n",
    "import pathlib\n",
    "import shutil\n",
    "import time\n",
    "import numpy as np\n",
    "import matplotlib.pyplot as plt\n",
    "local_path = os.path.abspath('')\n",
    "module_path = pathlib.Path(local_path)\n",
    "root_path = module_path.parent.parent\n",
    "root_path2 = root_path.parent\n",
    "sys.path.append(os.path.join(root_path))\n",
    "sys.path.append(os.path.join(root_path2))\n",
    "\n",
    "from pyaedt import Desktop\n",
    "from pyaedt import Maxwell3d\n",
    "from pyaedt import generate_unique_name\n",
    "project_dir = os.path.join(os.environ[\"TEMP\"], generate_unique_name(\"Example\"))\n",
    "if not os.path.exists(project_dir): os.makedirs(project_dir)\n",
    "print(project_dir)\n"
   ]
  },
  {
   "cell_type": "code",
   "execution_count": 2,
   "metadata": {},
   "outputs": [
    {
     "name": "stdout",
     "output_type": "stream",
     "text": [
      "Info: Using Windows TaskManager to Load processes\n",
      "Info: Ansoft.ElectronicsDesktop.2021.1 Started with Process ID 9692\n",
      "Info: pyaedt v1.5.36 started\n",
      "Info: Started external COM connection with module pythonnet_v3\n",
      "Info: Python version 3.8.5 (default, Sep  3 2020, 21:29:08) [MSC v.1916 64 bit (AMD64)]\n",
      "Info: Exe path: C:\\Anaconda3\\python.exe\n"
     ]
    }
   ],
   "source": [
    "if not \"oDesk\" in dir():\n",
    "    oDesk = Desktop(specified_version=\"2021.1\") \n",
    "project_name='test'\n",
    "project_name = os.path.join(project_dir, project_name + '.aedt')"
   ]
  },
  {
   "cell_type": "markdown",
   "metadata": {},
   "source": [
    "**2. Insert a Maxwell design and instantiate Geometry modeler.**"
   ]
  },
  {
   "cell_type": "code",
   "execution_count": 3,
   "metadata": {},
   "outputs": [
    {
     "name": "stdout",
     "output_type": "stream",
     "text": [
      "Warning: No design present - inserting a new design\n",
      "Info: Added design 'Maxwell 3D_1N6' of type Maxwell 3D\n",
      "Info: Design Loaded\n",
      "Info: Successfully loaded project materials !\n",
      "Info: Materials Loaded\n"
     ]
    }
   ],
   "source": [
    "M3D = Maxwell3d(solution_type=\"EddyCurrent\")\n",
    "GEO = M3D.modeler\n",
    "GEO.model_units = \"mm\"\n",
    "CS = GEO.coordinate_system"
   ]
  },
  {
   "cell_type": "markdown",
   "metadata": {},
   "source": [
    "**3. Create the Model**"
   ]
  },
  {
   "cell_type": "markdown",
   "metadata": {},
   "source": [
    "---\n",
    "\n",
    "***This block doesn't run.***"
   ]
  },
  {
   "cell_type": "code",
   "execution_count": 4,
   "metadata": {},
   "outputs": [],
   "source": [
    "# [Devin]: Why can't we use this syntax?:\n",
    "plate = GEO.primitives.create_box([0, 0, 0], [294, 294, 19], name=\"Plate\", matname=\"aluminum\")\n",
    "hole = GEO.primitives.create_box([18,18,0], [108, 108, 19], name=\"Hole\")"
   ]
  },
  {
   "cell_type": "markdown",
   "metadata": {},
   "source": [
    "---"
   ]
  },
  {
   "cell_type": "code",
   "execution_count": 5,
   "metadata": {},
   "outputs": [
    {
     "name": "stdout",
     "output_type": "stream",
     "text": [
      "Info: Assign Material aluminum to object Plate\n",
      "Info: Saving Project123 Project\n",
      "Info: Assign Material copper to object Coil\n",
      "Info: Deleted 1 Objects\n"
     ]
    },
    {
     "data": {
      "text/plain": [
       "True"
      ]
     },
     "execution_count": 5,
     "metadata": {},
     "output_type": "execute_result"
    }
   ],
   "source": [
    "GEO.subtract([plate], [hole])\n",
    "M3D.assignmaterial(plate, \"aluminum\")\n",
    "M3D.solve_inside(\"Plate\")\n",
    "adaptive_frequency = \"200Hz\"\n",
    "p_plate = M3D.post.volumetric_loss(\"Plate\") # Create fields postprocessing variable for loss in object Plate\n",
    "M3D.save_project(project_name) # unable to save file by passing the file name or directory as an argument. \n",
    "\n",
    "# Create coil\n",
    "\n",
    "center_hole = M3D.modeler.Position(119, 25, 49)\n",
    "center_coil = M3D.modeler.Position(94, 0, 49)\n",
    "coil_hole = GEO.primitives.create_box(center_hole, [150, 150, 100], name=\"Coil_Hole\")  # All positions in model units\n",
    "coil = GEO.primitives.create_box(center_coil, [200, 200, 100], name=\"Coil\")  # All positions in model units\n",
    "GEO.subtract([coil], [coil_hole])\n",
    "M3D.assignmaterial(coil, \"copper\")\n",
    "M3D.solve_inside(\"Coil\")\n",
    "p_coil = M3D.post.volumetric_loss(\"Coil\")\n",
    "\n",
    "# Create relative coordinate system\n",
    "\n",
    "CS.create([200, 100, 0], view=\"XY\", name=\"Coil_CS\")\n",
    "\n",
    "# Create coil terminal\n",
    "\n",
    "GEO.section([\"Coil\"], M3D.CoordinateSystemPlane.ZXPlane)\n",
    "GEO.separate_bodies([\"Coil_Section1\"])\n",
    "GEO.primitives.delete(\"Coil_Section1_Separate1\")\n",
    "M3D.assign_current([\"Coil_Section1\"], amplitude=2472)\n",
    "\n",
    "# draw region\n",
    "    \n",
    "M3D.modeler.create_air_region(*[300] * 6)\n",
    "\n",
    "# set eddy effects\n",
    "\n",
    "M3D.eddy_effects_on(['Plate'])\n",
    "Setup = M3D.create_setup()\n",
    "Setup.props[\"MaximumPasses\"] = 12\n",
    "Setup.props[\"MinimumPasses\"] = 2\n",
    "Setup.props[\"MinimumConvergedPasses\"] = 1\n",
    "Setup.props[\"PercentRefinement\"] = 30\n",
    "Setup.props[\"Frequency\"] = adaptive_frequency\n",
    "Setup.props[\"HasSweepSetup\"] = True\n",
    "Setup.props[\"StartValue\"] = \"1e-08GHz\"\n",
    "Setup.props[\"StopValue\"] = \"1e-06GHz\"\n",
    "Setup.props[\"StepSize\"] = \"2e-08GHz\"\n",
    "\n",
    "Setup.update()\n",
    "Setup.enable_expression_cache([p_plate, p_coil], \"Fields\", \"Phase=\\'0deg\\' \", True)"
   ]
  },
  {
   "cell_type": "markdown",
   "metadata": {},
   "source": [
    "**4. Solve**"
   ]
  },
  {
   "cell_type": "code",
   "execution_count": 6,
   "metadata": {},
   "outputs": [
    {
     "data": {
      "text/plain": [
       "True"
      ]
     },
     "execution_count": 6,
     "metadata": {},
     "output_type": "execute_result"
    }
   ],
   "source": [
    "M3D.analyse_nominal()"
   ]
  },
  {
   "cell_type": "code",
   "execution_count": 7,
   "metadata": {},
   "outputs": [],
   "source": [
    "val = M3D.post.get_report_data(expression=\"SolidLoss\")"
   ]
  },
  {
   "cell_type": "code",
   "execution_count": 8,
   "metadata": {},
   "outputs": [
    {
     "data": {
      "text/plain": [
       "['EddyCurrent', 'Fields']"
      ]
     },
     "execution_count": 8,
     "metadata": {},
     "output_type": "execute_result"
    }
   ],
   "source": [
    "M3D.post.report_types"
   ]
  },
  {
   "cell_type": "code",
   "execution_count": 9,
   "metadata": {},
   "outputs": [
    {
     "data": {
      "image/png": "[encoded data removed]",
      "text/plain": [
       "<Figure size 144x720 with 1 Axes>"
      ]
     },
     "metadata": {
      "needs_background": "light"
     },
     "output_type": "display_data"
    }
   ],
   "source": [
    "fig, ax = plt.subplots(figsize=(2, 10))\n",
    "\n",
    "ax.set(xlabel='Frequency (Hz)', ylabel='Solid Losses (W)', title='Losses Chart')\n",
    "ax.grid()\n",
    "mag_data = np.array(val.data_magnitude())\n",
    "freq_data = np.array([i*1e9 for i in val.sweeps[\"Freq\"]])\n",
    "ax.plot(freq_data, mag_data)\n",
    "plt.show()"
   ]
  },
  {
   "cell_type": "markdown",
   "metadata": {},
   "source": [
    "**5. Save the project and release the desktop object**"
   ]
  },
  {
   "cell_type": "code",
   "execution_count": 10,
   "metadata": {},
   "outputs": [
    {
     "name": "stdout",
     "output_type": "stream",
     "text": [
      "Info: Saving test Project\n"
     ]
    }
   ],
   "source": [
    "# Save the project and close it.\n",
    "# oDesk.release_desktop(close_projects=True)  # doesn't work from Jupyter\n",
    "M3D.save_project(project_name)\n",
    "oDesk.force_close_desktop()  # Use this from Jupyter"
   ]
  },
  {
   "cell_type": "markdown",
   "metadata": {},
   "source": [
    "**Everything beyond this point is a \"playground\" for messing around.**"
   ]
  },
  {
   "cell_type": "code",
   "execution_count": null,
   "metadata": {},
   "outputs": [],
   "source": []
  }
 ],
 "metadata": {
  "kernelspec": {
   "display_name": "Python 3",
   "language": "python",
   "name": "python3"
  },
  "language_info": {
   "codemirror_mode": {
    "name": "ipython",
    "version": 3
   },
   "file_extension": ".py",
   "mimetype": "text/x-python",
   "name": "python",
   "nbconvert_exporter": "python",
   "pygments_lexer": "ipython3",
   "version": "3.8.5"
  }
 },
 "nbformat": 4,
 "nbformat_minor": 4
}