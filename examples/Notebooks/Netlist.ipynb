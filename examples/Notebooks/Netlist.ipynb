{
 "cells": [
  {
   "cell_type": "markdown",
   "metadata": {},
   "source": [
    "------------------------------------------------------------------------------------------------------------------------------------\n",
    "\n",
    "# This Example shows how to Import Netlist in AEDT Nexxim\n",
    "Netlists supported are HSPICE (and partially Mentor)\n",
    "-------------------------------------------------------------------------------------------------------------------------------------"
   ]
  },
  {
   "cell_type": "code",
   "execution_count": 1,
   "metadata": {},
   "outputs": [],
   "source": [
    "import sys\n",
    "import os\n",
    "import pathlib"
   ]
  },
  {
   "cell_type": "markdown",
   "metadata": {},
   "source": [
    "Import Packages\n",
    "Setup The local path to the Path Containing pyaedt"
   ]
  },
  {
   "cell_type": "code",
   "execution_count": 2,
   "metadata": {},
   "outputs": [
    {
     "name": "stdout",
     "output_type": "stream",
     "text": [
      "C:\\Users\\mcapodif\\AppData\\Local\\Temp\\Example_GB3JFW\n"
     ]
    }
   ],
   "source": [
    "local_path = os.path.abspath('')\n",
    "module_path = pathlib.Path(local_path)\n",
    "aedt_lib_path = module_path.parent.parent.parent\n",
    "example_path =os.path.join(module_path.parent.parent,\"Examples\",\"Examples_Files\")\n",
    "sys.path.append(os.path.join(aedt_lib_path))\n",
    "from pyaedt import generate_unique_name\n",
    "temp_folder = os.path.join(os.environ[\"TEMP\"], generate_unique_name(\"Example\"))\n",
    "if not os.path.exists(temp_folder): os.makedirs(temp_folder)\n",
    "print(temp_folder)\n"
   ]
  },
  {
   "cell_type": "markdown",
   "metadata": {},
   "source": [
    "This command add pyaedt Path to the path list to allow usage of pyaedt"
   ]
  },
  {
   "cell_type": "code",
   "execution_count": 3,
   "metadata": {},
   "outputs": [],
   "source": [
    "myfile = os.path.join(example_path,\"netlist_small.cir\")"
   ]
  },
  {
   "cell_type": "markdown",
   "metadata": {},
   "source": [
    "initializing Netlist full path. Can be changed"
   ]
  },
  {
   "cell_type": "code",
   "execution_count": 4,
   "metadata": {},
   "outputs": [],
   "source": [
    "from pyaedt import Circuit\n",
    "from pyaedt import Desktop"
   ]
  },
  {
   "cell_type": "markdown",
   "metadata": {},
   "source": [
    "Import of Main Classes needed: Desktop and Circuit"
   ]
  },
  {
   "cell_type": "code",
   "execution_count": 5,
   "metadata": {},
   "outputs": [],
   "source": [
    "desktopVersion = \"2021.1\"\n",
    "NonGraphical = False\n",
    "NewThread = False"
   ]
  },
  {
   "cell_type": "markdown",
   "metadata": {},
   "source": [
    "Initializing version of Desktop and Graphical Options"
   ]
  },
  {
   "cell_type": "code",
   "execution_count": 6,
   "metadata": {},
   "outputs": [
    {
     "name": "stdout",
     "output_type": "stream",
     "text": [
      "Info: Using Windows TaskManager to Load processes\n",
      "Info: Ansoft.ElectronicsDesktop.2021.1 Started with Process ID 7860\n",
      "Info: pyaedt v0.5.0 started\n",
      "Info: Started external COM connection with module pythonnet_v3\n",
      "Info: Python version 3.8.5 (default, Sep  3 2020, 21:29:08) [MSC v.1916 64 bit (AMD64)]\n",
      "Info: Exe path: C:\\Anaconda3\\python.exe\n"
     ]
    }
   ],
   "source": [
    "desktop = Desktop(desktopVersion, NonGraphical, NewThread)"
   ]
  },
  {
   "cell_type": "markdown",
   "metadata": {},
   "source": [
    "Launching Desktop"
   ]
  },
  {
   "cell_type": "code",
   "execution_count": 7,
   "metadata": {},
   "outputs": [
    {
     "name": "stdout",
     "output_type": "stream",
     "text": [
      "Warning: No design present - inserting a new design\n",
      "Info: Added design 'Circuit Design_HMU' of type Circuit Design\n",
      "Info: Design Loaded\n",
      "Info: Successfully loaded project materials !\n",
      "Info: Materials Loaded\n"
     ]
    }
   ],
   "source": [
    "aedtapp = Circuit()"
   ]
  },
  {
   "cell_type": "markdown",
   "metadata": {},
   "source": [
    "Launching Circuit. An empty circuit will be created "
   ]
  },
  {
   "cell_type": "code",
   "execution_count": 8,
   "metadata": {},
   "outputs": [
    {
     "name": "stdout",
     "output_type": "stream",
     "text": [
      "Info: Saving Project138 Project\n"
     ]
    },
    {
     "data": {
      "text/plain": "True"
     },
     "execution_count": 8,
     "metadata": {},
     "output_type": "execute_result"
    }
   ],
   "source": [
    "aedtapp.save_project(os.path.join(temp_folder, \"my_firt_netlist.aedt\"))"
   ]
  },
  {
   "cell_type": "markdown",
   "metadata": {},
   "source": [
    "Save Project to temp folder. Can be changed"
   ]
  },
  {
   "cell_type": "code",
   "execution_count": 9,
   "metadata": {},
   "outputs": [],
   "source": [
    "aedtapp[\"Voltage\"]=\"5\""
   ]
  },
  {
   "cell_type": "code",
   "execution_count": 10,
   "metadata": {},
   "outputs": [
    {
     "data": {
      "text/plain": "True"
     },
     "execution_count": 10,
     "metadata": {},
     "output_type": "execute_result"
    }
   ],
   "source": [
    "aedtapp.create_schematic_from_netlist(myfile)"
   ]
  },
  {
   "cell_type": "markdown",
   "metadata": {},
   "source": [
    "Launch command to create Schematic"
   ]
  },
  {
   "cell_type": "code",
   "execution_count": 11,
   "metadata": {},
   "outputs": [
    {
     "name": "stdout",
     "output_type": "stream",
     "text": [
      "Info: Closing the active my_firt_netlist AEDT Project\n"
     ]
    },
    {
     "data": {
      "text/plain": "True"
     },
     "execution_count": 11,
     "metadata": {},
     "output_type": "execute_result"
    }
   ],
   "source": [
    "aedtapp.close_project()"
   ]
  },
  {
   "cell_type": "markdown",
   "metadata": {},
   "source": [
    "Close Project....or continue adding functionalities"
   ]
  },
  {
   "cell_type": "code",
   "execution_count": 12,
   "metadata": {},
   "outputs": [],
   "source": [
    "desktop.force_close_desktop()"
   ]
  },
  {
   "cell_type": "markdown",
   "metadata": {},
   "source": [
    "Close Desktop. Jupyter Lab requires force close desktop because release doesn't work properly (which works in standalone python run)"
   ]
  },
  {
   "cell_type": "code",
   "execution_count": 12,
   "metadata": {},
   "outputs": [],
   "source": []
  }
 ],
 "metadata": {
  "kernelspec": {
   "display_name": "Python 3",
   "language": "python",
   "name": "python3"
  },
  "language_info": {
   "codemirror_mode": {
    "name": "ipython",
    "version": 3
   },
   "file_extension": ".py",
   "mimetype": "text/x-python",
   "name": "python",
   "nbconvert_exporter": "python",
   "pygments_lexer": "ipython3",
   "version": "3.8.5"
  }
 },
 "nbformat": 4,
 "nbformat_minor": 4
}