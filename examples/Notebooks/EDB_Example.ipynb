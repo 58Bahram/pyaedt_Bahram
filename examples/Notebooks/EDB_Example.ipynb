{
 "cells": [
  {
   "cell_type": "code",
   "execution_count": 4,
   "metadata": {},
   "outputs": [
    {
     "name": "stdout",
     "output_type": "stream",
     "text": [
      "The pyvista module from python.org is required to run some functionalities of PostProcess\n",
      "C:\\Users\\hzhou\\AppData\\Local\\Temp\\Example_3S9E0O\\Galileo.aedb\n"
     ]
    }
   ],
   "source": [
    "import os\n",
    "import sys\n",
    "import pathlib\n",
    "import shutil\n",
    "local_path = os.path.abspath('')\n",
    "module_path = pathlib.Path(local_path)\n",
    "aedt_lib_path = module_path.parent.parent\n",
    "sys.path.append(os.path.join(aedt_lib_path))\n",
    "import os\n",
    "import time\n",
    "from pyaedt import generate_unique_name\n",
    "temp_folder = os.path.join(os.environ[\"TEMP\"], generate_unique_name(\"Example\"))\n",
    "\n",
    "example_path =os.path.join(module_path.parent,\"Examples_Files\")\n",
    "myfile = os.path.join(example_path,\"Galileo.aedb\")\n",
    "targetfolder = os.path.join(temp_folder,'Galileo.aedb')\n",
    "if os.path.exists(targetfolder):\n",
    "    shutil.rmtree(targetfolder)\n",
    "shutil.copytree(myfile, targetfolder)\n",
    "targetfile=os.path.join(targetfolder)\n",
    "print(targetfile)\n",
    "\n"
   ]
  },
  {
   "cell_type": "code",
   "execution_count": 5,
   "metadata": {},
   "outputs": [],
   "source": [
    "from pyaedt import Edb"
   ]
  },
  {
   "cell_type": "code",
   "execution_count": 6,
   "metadata": {},
   "outputs": [],
   "source": [
    "\n",
    "edb = Edb(edbpath=targetfile)"
   ]
  },
  {
   "cell_type": "code",
   "execution_count": 7,
   "metadata": {},
   "outputs": [
    {
     "name": "stdout",
     "output_type": "stream",
     "text": [
      "432\n",
      "531\n",
      "elapsed time =  2.6190552711486816\n"
     ]
    }
   ],
   "source": [
    "print(len(edb.core_nets.nets.keys()))\n",
    "start = time.time()\n",
    "print(len(edb.core_components.components.keys()))\n",
    "print (\"elapsed time = \", time.time() - start)"
   ]
  },
  {
   "cell_type": "code",
   "execution_count": 8,
   "metadata": {},
   "outputs": [
    {
     "name": "stdout",
     "output_type": "stream",
     "text": [
      "[0.0824444122, 0.0313309]\n",
      "[0.0819443878, 0.0324739]\n",
      "[0.0824444122, 0.0324739]\n",
      "[0.0814443888, 0.0324739]\n",
      "[0.08298180000000001, 0.031902400000000004]\n",
      "[0.0829444112, 0.0313309]\n",
      "[0.0829444112, 0.0324739]\n",
      "[0.0814443888, 0.0313309]\n",
      "[0.0819443878, 0.0313309]\n",
      "[0.08140700000000001, 0.031902400000000004]\n"
     ]
    }
   ],
   "source": [
    "pins = edb.core_components.get_pin_from_component(\"U2\")\n",
    "for pin in pins:\n",
    "    print(edb.core_components.get_pin_position(pin))\n"
   ]
  },
  {
   "cell_type": "code",
   "execution_count": 9,
   "metadata": {},
   "outputs": [
    {
     "data": {
      "text/plain": [
       "{'refdes': ['U2', 'U2', 'U2', 'U2', 'U2', 'U2', 'U2', 'U2', 'U2', 'U2'],\n",
       " 'pin_name': ['3', '8', '7', '9', '5', '4', '6', '1', '2', '10'],\n",
       " 'net_name': ['GND',\n",
       "  'VSHLD_S5',\n",
       "  'LVL_TXD',\n",
       "  'LVL_RXD',\n",
       "  'IO1_MUX',\n",
       "  'IO1_GPIO',\n",
       "  'IO1',\n",
       "  'IO0_MUX',\n",
       "  'IO0_GPIO',\n",
       "  'IO0']}"
      ]
     },
     "execution_count": 9,
     "metadata": {},
     "output_type": "execute_result"
    }
   ],
   "source": [
    "edb.core_components.get_component_net_connection_info(\"U2\")"
   ]
  },
  {
   "cell_type": "code",
   "execution_count": 10,
   "metadata": {},
   "outputs": [],
   "source": [
    "rats = edb.core_components.get_rats()"
   ]
  },
  {
   "cell_type": "code",
   "execution_count": 11,
   "metadata": {},
   "outputs": [
    {
     "name": "stdout",
     "output_type": "stream",
     "text": [
      "[{'BST_V1P5_S5', 'V1P5_S5'}, {'V3P3_S5', 'BST_V3P3_S5'}, {'BST_V1P0_S0', 'V1P0_S0'}]\n"
     ]
    }
   ],
   "source": [
    "GROUND_NETS = [\"GND\", \"PGND\"]\n",
    "dc_connected_net_list = edb.core_nets.get_dcconnected_net_list(GROUND_NETS)\n",
    "print(dc_connected_net_list)"
   ]
  },
  {
   "cell_type": "code",
   "execution_count": 12,
   "metadata": {},
   "outputs": [
    {
     "name": "stdout",
     "output_type": "stream",
     "text": [
      "['C4A2', '1', 'BST_V1P0_S0', 'Capacitor']\n",
      "['L4B1', '1', 'BST_V1P0_S0', 'Inductor']\n",
      "['U3A1', '37', 'BST_V1P0_S0', 'IC']\n",
      "['U3A1', '36', 'BST_V1P0_S0', 'IC']\n",
      "['U2A5', 'Y14', 'V1P0_S0', 'IC']\n",
      "['U2A5', 'AB14', 'V1P0_S0', 'IC']\n",
      "['U2A5', 'AD14', 'V1P0_S0', 'IC']\n",
      "['U2A5', 'V14', 'V1P0_S0', 'IC']\n",
      "['U2A5', 'Y20', 'V1P0_S0', 'IC']\n",
      "['U2A5', 'Y18', 'V1P0_S0', 'IC']\n",
      "['U2A5', 'Y16', 'V1P0_S0', 'IC']\n",
      "['U2A5', 'AB20', 'V1P0_S0', 'IC']\n",
      "['U2A5', 'AB18', 'V1P0_S0', 'IC']\n",
      "['U2A5', 'V20', 'V1P0_S0', 'IC']\n",
      "['U2A5', 'V18', 'V1P0_S0', 'IC']\n",
      "['U2A5', 'V16', 'V1P0_S0', 'IC']\n",
      "['U2A5', 'T18', 'V1P0_S0', 'IC']\n",
      "['C2L14', '1', 'V1P0_S0', 'Capacitor']\n",
      "['R2L19', '1', 'V1P0_S0', 'Resistor']\n",
      "['C3L22', '1', 'V1P0_S0', 'Capacitor']\n",
      "['C3B10', '1', 'V1P0_S0', 'Capacitor']\n",
      "['C2B2', '1', 'V1P0_S0', 'Capacitor']\n",
      "['C3L28', '1', 'V1P0_S0', 'Capacitor']\n",
      "['C3L17', '1', 'V1P0_S0', 'Capacitor']\n",
      "['C3L15', '1', 'V1P0_S0', 'Capacitor']\n",
      "['C3L18', '1', 'V1P0_S0', 'Capacitor']\n",
      "['C3L20', '1', 'V1P0_S0', 'Capacitor']\n",
      "['C3L26', '1', 'V1P0_S0', 'Capacitor']\n",
      "['C3L24', '1', 'V1P0_S0', 'Capacitor']\n",
      "['C3L29', '1', 'V1P0_S0', 'Capacitor']\n",
      "['C3B9', '1', 'V1P0_S0', 'Capacitor']\n",
      "['C3B11', '1', 'V1P0_S0', 'Capacitor']\n",
      "['FB3L1', '2', 'V1P0_S0', 'Other']\n",
      "['L4B1', '2', 'V1P0_S0', 'Inductor']\n",
      "['C2B12', '1', 'V1P0_S0', 'Capacitor']\n",
      "['C3B17', '1', 'V1P0_S0', 'Capacitor']\n"
     ]
    }
   ],
   "source": [
    "VRM = \"U3A1\"\n",
    "OUTPUT_NET = \"BST_V1P0_S0\"\n",
    "powertree_df, power_nets = edb.core_nets.get_powertree(OUTPUT_NET, GROUND_NETS)\n",
    "for el in powertree_df:\n",
    "    print(el)\n",
    "\n"
   ]
  },
  {
   "cell_type": "code",
   "execution_count": 13,
   "metadata": {},
   "outputs": [
    {
     "data": {
      "text/plain": [
       "['R2B29', 'R3M13']"
      ]
     },
     "execution_count": 13,
     "metadata": {},
     "output_type": "execute_result"
    }
   ],
   "source": [
    "edb.core_components.delete_single_pin_rlc()"
   ]
  },
  {
   "cell_type": "code",
   "execution_count": 14,
   "metadata": {},
   "outputs": [
    {
     "data": {
      "text/plain": [
       "True"
      ]
     },
     "execution_count": 14,
     "metadata": {},
     "output_type": "execute_result"
    }
   ],
   "source": [
    "edb.core_components.delete_component(\"C3B17\")"
   ]
  },
  {
   "cell_type": "code",
   "execution_count": 15,
   "metadata": {},
   "outputs": [
    {
     "data": {
      "text/plain": [
       "['A0_N']"
      ]
     },
     "execution_count": 15,
     "metadata": {},
     "output_type": "execute_result"
    }
   ],
   "source": [
    "edb.core_nets.delete_nets(\"A0_N\")"
   ]
  },
  {
   "cell_type": "code",
   "execution_count": 16,
   "metadata": {},
   "outputs": [
    {
     "data": {
      "text/plain": [
       "True"
      ]
     },
     "execution_count": 16,
     "metadata": {},
     "output_type": "execute_result"
    }
   ],
   "source": [
    "edb.save_edb()"
   ]
  },
  {
   "cell_type": "code",
   "execution_count": 17,
   "metadata": {},
   "outputs": [
    {
     "data": {
      "text/plain": [
       "True"
      ]
     },
     "execution_count": 17,
     "metadata": {},
     "output_type": "execute_result"
    }
   ],
   "source": [
    "edb.close_edb()"
   ]
  },
  {
   "cell_type": "code",
   "execution_count": 14,
   "metadata": {},
   "outputs": [],
   "source": []
  }
 ],
 "metadata": {
  "kernelspec": {
   "display_name": "Python 3",
   "language": "python",
   "name": "python3"
  },
  "language_info": {
   "codemirror_mode": {
    "name": "ipython",
    "version": 3
   },
   "file_extension": ".py",
   "mimetype": "text/x-python",
   "name": "python",
   "nbconvert_exporter": "python",
   "pygments_lexer": "ipython3",
   "version": "3.8.5"
  }
 },
 "nbformat": 4,
 "nbformat_minor": 5
}
