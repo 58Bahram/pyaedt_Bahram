{
 "cells": [
  {
   "cell_type": "code",
   "execution_count": 1,
   "id": "9f42b839-1cc3-4581-a048-6f7ccc131309",
   "metadata": {},
   "outputs": [],
   "source": [
    "import os\n",
    "import sys\n",
    "import pathlib\n",
    "import glob\n",
    "from IPython.display import Image\n",
    "local_path = os.path.abspath('')\n",
    "module_path = pathlib.Path(local_path)\n",
    "aedt_lib_path = module_path.parent.parent.parent\n",
    "sys.path.append(os.path.join(aedt_lib_path))"
   ]
  },
  {
   "cell_type": "code",
   "execution_count": 2,
   "id": "8a9a3290-54a7-41e3-98f1-6a9b7f72967f",
   "metadata": {},
   "outputs": [],
   "source": [
    "from pyaedt.core import Desktop\n",
    "from pyaedt.core import Q3d"
   ]
  },
  {
   "cell_type": "code",
   "execution_count": 3,
   "id": "ce747df8-2ad0-492a-bda5-bf4e3b18bc68",
   "metadata": {},
   "outputs": [
    {
     "name": "stdout",
     "output_type": "stream",
     "text": [
      "Info: Using Windows TaskManager to Load processes\n",
      "Info: pyaedt v0.5.0 started\n",
      "Info: Started external COM connection with module pythonnet_v3\n",
      "Info: Python version 3.8.5 (default, Sep  3 2020, 21:29:08) [MSC v.1916 64 bit (AMD64)]\n",
      "Info: Exe path: C:\\Anaconda3\\python.exe\n"
     ]
    }
   ],
   "source": [
    "d = Desktop(\"2021.1\",False, False)"
   ]
  },
  {
   "cell_type": "code",
   "execution_count": 4,
   "id": "1bf473ce-5695-4ffe-846d-52226a516858",
   "metadata": {},
   "outputs": [
    {
     "name": "stdout",
     "output_type": "stream",
     "text": [
      "Warning: No design present - inserting a new design\n",
      "Info: Added design 'Q3D Extractor_9UP' of type Q3D Extractor\n",
      "Info: Design Loaded\n",
      "Info: Successfully loaded project materials !\n",
      "Info: Materials Loaded\n"
     ]
    }
   ],
   "source": [
    "q=Q3d()"
   ]
  },
  {
   "cell_type": "code",
   "execution_count": 5,
   "id": "4845bc35-df4a-4475-a46a-2a08677310ae",
   "metadata": {},
   "outputs": [
    {
     "data": {
      "text/plain": "True"
     },
     "execution_count": 5,
     "metadata": {},
     "output_type": "execute_result"
    }
   ],
   "source": [
    "q.modeler.primitives.create_polyline([[0,0,0], [-100,0,0]], name=\"Bar1\", matname=\"copper\")\n",
    "q.modeler.primitives.create_polyline_with_crosssection(\"Bar1\",width=\"5mm\")"
   ]
  },
  {
   "cell_type": "code",
   "execution_count": 6,
   "id": "889f526a-44ee-41c1-bf9d-99569e36b32b",
   "metadata": {},
   "outputs": [
    {
     "data": {
      "text/plain": "True"
     },
     "execution_count": 6,
     "metadata": {},
     "output_type": "execute_result"
    }
   ],
   "source": [
    "q.modeler.primitives.create_polyline([[0,-15,0], [-150,-15,0]], name=\"Bar2\", matname=\"aluminum\")\n",
    "q.modeler.primitives.create_polyline_with_crosssection(\"Bar2\",width=\"5mm\")"
   ]
  },
  {
   "cell_type": "code",
   "execution_count": 7,
   "id": "c9cf8d01-5a90-42f0-81cc-d1c0bd51d1ee",
   "metadata": {},
   "outputs": [
    {
     "data": {
      "text/plain": "True"
     },
     "execution_count": 7,
     "metadata": {},
     "output_type": "execute_result"
    }
   ],
   "source": [
    "q.modeler.primitives.create_polyline([[0,-30,0], [-175,-30,0], [-175,-10,0]], name=\"Bar3\", matname=\"copper\")\n",
    "q.modeler.primitives.create_polyline_with_crosssection(\"Bar3\",width=\"5mm\")"
   ]
  },
  {
   "cell_type": "code",
   "execution_count": 8,
   "id": "3c4c456d-ccbe-41ec-80a0-7486f40e82a7",
   "metadata": {},
   "outputs": [
    {
     "data": {
      "text/plain": "113"
     },
     "execution_count": 8,
     "metadata": {},
     "output_type": "execute_result"
    }
   ],
   "source": [
    "q.modeler.primitives.create_box([50,30,-0.5], [-250,-100,-3], name=\"substrate\", matname=\"FR4_epoxy\")\n"
   ]
  },
  {
   "cell_type": "code",
   "execution_count": 9,
   "id": "68265513-d595-4009-bc94-b33b411329c1",
   "metadata": {},
   "outputs": [
    {
     "data": {
      "text/plain": "True"
     },
     "execution_count": 9,
     "metadata": {},
     "output_type": "execute_result"
    }
   ],
   "source": [
    "q.auto_identify_nets()"
   ]
  },
  {
   "cell_type": "code",
   "execution_count": 10,
   "id": "f66c40a3-ff5f-49db-b466-91b21a9e9f25",
   "metadata": {},
   "outputs": [
    {
     "data": {
      "text/plain": "<pyaedt.core.modules.Boundary.BoundaryObject at 0x2ab3e180bb0>"
     },
     "execution_count": 10,
     "metadata": {},
     "output_type": "execute_result"
    }
   ],
   "source": [
    "q.assign_source_to_objectface(\"Bar1\",axisdir=q.AxisDir.XPos, source_name=\"Source1\")"
   ]
  },
  {
   "cell_type": "code",
   "execution_count": 11,
   "id": "13bc2c84-2276-46a9-967c-72fccaad5eda",
   "metadata": {},
   "outputs": [
    {
     "data": {
      "text/plain": "<pyaedt.core.modules.Boundary.BoundaryObject at 0x2ab5a148c70>"
     },
     "execution_count": 11,
     "metadata": {},
     "output_type": "execute_result"
    }
   ],
   "source": [
    "q.assign_sink_to_objectface(\"Bar1\",axisdir=q.AxisDir.XNeg, sink_name=\"Sink1\")"
   ]
  },
  {
   "cell_type": "code",
   "execution_count": 12,
   "id": "09e76937-75b8-423b-8778-b0654853126f",
   "metadata": {},
   "outputs": [
    {
     "data": {
      "text/plain": "<pyaedt.core.modules.Boundary.BoundaryObject at 0x2ab3e19d490>"
     },
     "execution_count": 12,
     "metadata": {},
     "output_type": "execute_result"
    }
   ],
   "source": [
    "q.assign_source_to_objectface(\"Bar2\",axisdir=q.AxisDir.XPos, source_name=\"Source2\")"
   ]
  },
  {
   "cell_type": "code",
   "execution_count": 13,
   "id": "e24b4908-a1e5-4e14-9ef7-5fabbc086ca0",
   "metadata": {},
   "outputs": [
    {
     "data": {
      "text/plain": "<pyaedt.core.modules.Boundary.BoundaryObject at 0x2ab5c7c06d0>"
     },
     "execution_count": 13,
     "metadata": {},
     "output_type": "execute_result"
    }
   ],
   "source": [
    "q.assign_sink_to_objectface(\"Bar2\",axisdir=q.AxisDir.XNeg, sink_name=\"Sink2\")"
   ]
  },
  {
   "cell_type": "code",
   "execution_count": 14,
   "id": "636b627f-a03f-4f4a-a5ec-e20efb66e900",
   "metadata": {},
   "outputs": [
    {
     "data": {
      "text/plain": "<pyaedt.core.modules.Boundary.BoundaryObject at 0x2ab5c7c0670>"
     },
     "execution_count": 14,
     "metadata": {},
     "output_type": "execute_result"
    }
   ],
   "source": [
    "q.assign_source_to_objectface(\"Bar3\",axisdir=q.AxisDir.XPos, source_name=\"Source3\")"
   ]
  },
  {
   "cell_type": "code",
   "execution_count": 15,
   "id": "54b32504-dc97-4315-bb89-c8d887ff1e61",
   "metadata": {},
   "outputs": [
    {
     "data": {
      "text/plain": "<pyaedt.core.modules.Boundary.BoundaryObject at 0x2ab5c7c0bb0>"
     },
     "execution_count": 15,
     "metadata": {},
     "output_type": "execute_result"
    }
   ],
   "source": [
    "q.assign_sink_to_objectface(\"Bar3\",axisdir=q.AxisDir.YPos, sink_name=\"Sink3\")"
   ]
  },
  {
   "cell_type": "code",
   "execution_count": 16,
   "id": "776fa0aa-3678-429f-a3a7-9177904f1094",
   "metadata": {},
   "outputs": [
    {
     "data": {
      "text/plain": "SetupName MySetupAuto with 0 Sweeps"
     },
     "execution_count": 16,
     "metadata": {},
     "output_type": "execute_result"
    }
   ],
   "source": [
    "q.create_setup(props={\"AdaptiveFreq\":\"100MHz\"})"
   ]
  },
  {
   "cell_type": "code",
   "execution_count": 17,
   "id": "3b176120-3013-408b-bcc3-399feb395f8b",
   "metadata": {},
   "outputs": [
    {
     "data": {
      "text/plain": "True"
     },
     "execution_count": 17,
     "metadata": {},
     "output_type": "execute_result"
    }
   ],
   "source": [
    "q.post.create_rectangular_plot(\"C(Bar1,Bar1)\",context=\"Original\")"
   ]
  },
  {
   "cell_type": "code",
   "execution_count": 18,
   "id": "600205ea-1baf-49bb-86d8-9f340078a346",
   "metadata": {},
   "outputs": [
    {
     "data": {
      "text/plain": "True"
     },
     "execution_count": 18,
     "metadata": {},
     "output_type": "execute_result"
    }
   ],
   "source": [
    "q.analyse_nominal()"
   ]
  },
  {
   "cell_type": "code",
   "execution_count": 20,
   "id": "0197c4f8-ce8b-4f41-954f-20eda8c4b56f",
   "metadata": {},
   "outputs": [],
   "source": [
    "d.force_close_desktop()"
   ]
  },
  {
   "cell_type": "code",
   "execution_count": 19,
   "id": "f544c3c0-a18e-474a-8be8-078c2d075fa2",
   "metadata": {},
   "outputs": [],
   "source": []
  }
 ],
 "metadata": {
  "kernelspec": {
   "display_name": "Python 3",
   "language": "python",
   "name": "python3"
  },
  "language_info": {
   "codemirror_mode": {
    "name": "ipython",
    "version": 3
   },
   "file_extension": ".py",
   "mimetype": "text/x-python",
   "name": "python",
   "nbconvert_exporter": "python",
   "pygments_lexer": "ipython3",
   "version": "3.8.5"
  }
 },
 "nbformat": 4,
 "nbformat_minor": 5
}