{
 "cells": [
  {
   "cell_type": "markdown",
   "id": "honey-insurance",
   "metadata": {},
   "source": [
    "------------------------------------------------------------------------------------------------------------------------------------\n",
    "\n",
    "# This Example shows how to use HFSS3DLayout combined with EDB to interact with a layout\n",
    "------------------------------------------------------------------------------------------------------------------------------"
   ]
  },
  {
   "cell_type": "code",
   "execution_count": 1,
   "id": "artistic-ceramic",
   "metadata": {},
   "outputs": [],
   "source": [
    "import sys\n",
    "import os\n",
    "import pathlib\n",
    "import shutil\n"
   ]
  },
  {
   "cell_type": "code",
   "execution_count": 3,
   "id": "attempted-opposition",
   "metadata": {},
   "outputs": [],
   "source": [
    "local_path = os.path.abspath('')\n",
    "module_path = pathlib.Path(local_path)\n",
    "aedt_lib_path = module_path.parent.parent\n",
    "example_path =os.path.join(module_path.parent, \"Examples_Files\")\n",
    "sys.path.append(os.path.join(aedt_lib_path))\n"
   ]
  },
  {
   "cell_type": "markdown",
   "id": "designing-sympathy",
   "metadata": {
    "pycharm": {
     "name": "#%% md\n"
    }
   },
   "source": [
    "Copying Example in Temp Folder"
   ]
  },
  {
   "cell_type": "code",
   "execution_count": 4,
   "id": "00009ca0-f4f6-4ab4-9298-2564ee7207a7",
   "metadata": {},
   "outputs": [
    {
     "name": "stdout",
     "output_type": "stream",
     "text": [
      "C:\\Users\\mcapodif\\AppData\\Local\\Temp\\Example_E25D5G\n"
     ]
    }
   ],
   "source": [
    "from pyaedt import Desktop\n",
    "from pyaedt import Hfss3dLayout\n",
    "from pyaedt.generic.general_methods import generate_unique_name\n",
    "temp_folder = os.path.join(os.environ[\"TEMP\"], generate_unique_name(\"Example\"))\n",
    "if not os.path.exists(temp_folder): os.makedirs(temp_folder)\n",
    "print(temp_folder)"
   ]
  },
  {
   "cell_type": "code",
   "execution_count": 5,
   "id": "rolled-russian",
   "metadata": {
    "collapsed": false,
    "jupyter": {
     "outputs_hidden": false
    },
    "pycharm": {
     "name": "#%%\n"
    }
   },
   "outputs": [
    {
     "name": "stdout",
     "output_type": "stream",
     "text": [
      "C:\\Users\\mcapodif\\AppData\\Local\\Temp\\Example_E25D5G\\Galileo.aedb\\edb.def\n"
     ]
    }
   ],
   "source": [
    "myfile = os.path.join(example_path,\"Galileo.aedb\")\n",
    "targetfolder = os.path.join(temp_folder,'Galileo.aedb')\n",
    "if os.path.exists(targetfolder):\n",
    "    shutil.rmtree(targetfolder)\n",
    "shutil.copytree(myfile, targetfolder)\n",
    "targetfile=os.path.join(targetfolder,\"edb.def\")\n",
    "print(targetfile)"
   ]
  },
  {
   "cell_type": "markdown",
   "id": "reliable-thirty",
   "metadata": {
    "pycharm": {
     "name": "#%% md\n"
    }
   },
   "source": [
    "Initializing Desktop\n",
    "Launching HFSS 3DLayout\n"
   ]
  },
  {
   "cell_type": "code",
   "execution_count": 6,
   "id": "successful-fetish",
   "metadata": {},
   "outputs": [
    {
     "name": "stdout",
     "output_type": "stream",
     "text": [
      "Info: Using Windows TaskManager to Load processes\n",
      "Info: Ansoft.ElectronicsDesktop.2021.1 Started with Process ID 4164\n",
      "Info: pyaedt v0.5.0 started\n",
      "Info: Started external COM connection with module pythonnet_v3\n",
      "Info: Python version 3.8.5 (default, Sep  3 2020, 21:29:08) [MSC v.1916 64 bit (AMD64)]\n",
      "Info: Exe path: C:\\Anaconda3\\python.exe\n",
      "Info: Design Loaded\n",
      "Info: Successfully loaded project materials !\n",
      "Info: Materials Loaded\n",
      "Info: Analysis Loaded\n",
      "Info: Loading Modeler\n",
      "Info: Modeler Loaded\n",
      "Info: Messenger Initialized in EDB\n",
      "Info: EDB Loaded\n",
      "Info: Layers Loaded\n",
      "Info: Primitives Loaded\n",
      "Info: Modeler Loaded\n"
     ]
    }
   ],
   "source": [
    "d = Desktop(\"2021.1\")\n",
    "h3d=Hfss3dLayout(targetfile)"
   ]
  },
  {
   "cell_type": "markdown",
   "id": "straight-tablet",
   "metadata": {
    "pycharm": {
     "name": "#%% md\n"
    }
   },
   "source": [
    "Disable visibility for all Nets"
   ]
  },
  {
   "cell_type": "markdown",
   "id": "4ddad5d7-20ce-4591-8395-679cd43ca8fb",
   "metadata": {
    "jupyter": {
     "outputs_hidden": false
    },
    "pycharm": {
     "name": "#%%\n"
    }
   },
   "source": [
    "# Check Setups from setups objects"
   ]
  },
  {
   "cell_type": "code",
   "execution_count": 7,
   "id": "4ebc4dbb-a071-4b58-85ec-60ae7204a097",
   "metadata": {},
   "outputs": [
    {
     "data": {
      "text/plain": "OrderedDict([('DataId', 'Setup0'),\n             ('Properties', OrderedDict([('Enable', 'true')])),\n             ('CustomSetup', False),\n             ('SimSetupID', 0),\n             ('AutoSetup', False),\n             ('SliderType', 'Balanced'),\n             ('SolveSetupType', 'HFSS'),\n             ('PercentRefinementPerPass', 30),\n             ('MinNumberOfPasses', 1),\n             ('MinNumberOfConvergedPasses', 1),\n             ('UseDefaultLambda', True),\n             ('UseMaxRefinement', False),\n             ('MaxRefinement', 1000000),\n             ('SaveAdaptiveCurrents', False),\n             ('SaveLastAdaptiveRadFields', False),\n             ('ProdMajVerID', -1),\n             ('ProjDesignSetup', ''),\n             ('ProdMinVerID', -1),\n             ('Refine', False),\n             ('Frequency', '10GHz'),\n             ('LambdaRefine', True),\n             ('MeshSizeFactor', 1.5),\n             ('QualityRefine', True),\n             ('MinAngle', '15deg'),\n             ('UniformityRefine', False),\n             ('MaxRatio', 2),\n             ('Smooth', False),\n             ('SmoothingPasses', 5),\n             ('UseEdgeMesh', False),\n             ('UseEdgeMeshAbsLength', False),\n             ('EdgeMeshRatio', 0.1),\n             ('EdgeMeshAbsLength', '1000mm'),\n             ('LayerProjectThickness', '0meter'),\n             ('UseDefeature', True),\n             ('UseDefeatureAbsLength', False),\n             ('DefeatureRatio', 1e-06),\n             ('DefeatureAbsLength', '0mm'),\n             ('InfArrayDimX', 0),\n             ('InfArrayDimY', 0),\n             ('InfArrayOrigX', 0),\n             ('InfArrayOrigY', 0),\n             ('InfArraySkew', 0),\n             ('ViaNumSides', 6),\n             ('ViaMaterial', 'copper'),\n             ('Style25DVia', 'Mesh'),\n             ('Replace3DTriangles', True),\n             ('LayerSnapTol', '0'),\n             ('ViaDensity', 0),\n             ('HfssMesh', True),\n             ('Q3dPostProc', False),\n             ('UnitFactor', 1000),\n             ('Verbose', False),\n             ('NumberOfProcessors', 0),\n             ('SmallVoidArea', 0),\n             ('HealingOption', 1),\n             ('InclBBoxOption', 1),\n             ('ModelType', 0),\n             ('AuxBlock', OrderedDict()),\n             ('DoAdaptive', True),\n             ('Color', ['R=0', 'G=0', 'B=0']),\n             ('AdvancedSettings',\n              OrderedDict([('AccuracyLevel', 2),\n                           ('GapPortCalibration', True),\n                           ('ReferenceLengthRatio', 0.25),\n                           ('RefineAreaRatio', 4),\n                           ('DRCOn', False),\n                           ('FastSolverOn', False),\n                           ('StartFastSolverAt', 3000),\n                           ('LoopTreeOn', True),\n                           ('SingularElementsOn', False),\n                           ('UseStaticPortSolver', False),\n                           ('UseThinMetalPortSolver', False),\n                           ('ComputeBothEvenAndOddCPWModes', False),\n                           ('ZeroMetalLayerThickness', 0),\n                           ('ThinDielectric', 0),\n                           ('UseShellElements', False),\n                           ('SVDHighCompression', False),\n                           ('NumProcessors', 1),\n                           ('UseHfssIterativeSolver', False),\n                           ('UseHfssMUMPSSolver', True),\n                           ('RelativeResidual', 1e-06),\n                           ('EnhancedLowFreqAccuracy', False),\n                           ('OrderBasis', -1),\n                           ('MaxDeltaZo', 2),\n                           ('UseRadBoundaryOnPorts', False),\n                           ('SetTrianglesForWavePort', False),\n                           ('MinTrianglesForWavePort', 100),\n                           ('MaxTrianglesForWavePort', 500),\n                           ('numprocessorsdistrib', 1),\n                           ('CausalMaterials', True),\n                           ('enabledsoforopti', True),\n                           ('usehfsssolvelicense', False),\n                           ('ExportAfterSolve', False),\n                           ('ExportDir', ''),\n                           ('CircuitSparamDefinition', False),\n                           ('CircuitIntegrationType', 'FFT'),\n                           ('DesignType', 'Generic'),\n                           ('MeshingMethod', 'Phi'),\n                           ('EnableDesignIntersectionCheck', True),\n                           ('UseAlternativeMeshMethodsAsFallBack', True),\n                           ('BroadbandFreqOption', 'AutoMaxFreq'),\n                           ('BroadbandMaxNumFreq', 5),\n                           ('SaveADP', False),\n                           ('UseAdvancedDCExtrap', False)])),\n             ('CurveApproximation',\n              OrderedDict([('ArcAngle', '30deg'),\n                           ('StartAzimuth', '0deg'),\n                           ('UseError', False),\n                           ('Error', '0meter'),\n                           ('MaxPoints', 8),\n                           ('UnionPolys', True),\n                           ('Replace3DTriangles', True)])),\n             ('Q3D_DCSettings',\n              OrderedDict([('SolveResOnly', True),\n                           ('Cond',\n                            OrderedDict([('MaxPass', 10),\n                                         ('MinPass', 1),\n                                         ('MinConvPass', 1),\n                                         ('PerError', 1),\n                                         ('PerRefine', 30)])),\n                           ('Mult',\n                            OrderedDict([('MaxPass', 1),\n                                         ('MinPass', 1),\n                                         ('MinConvPass', 1),\n                                         ('PerError', 1),\n                                         ('PerRefine', 30)])),\n                           ('Solution Order', 'Normal')])),\n             ('Data', OrderedDict()),\n             ('MeshOps', OrderedDict())])"
     },
     "execution_count": 7,
     "metadata": {},
     "output_type": "execute_result"
    }
   ],
   "source": [
    "h3d.setups[0].props"
   ]
  },
  {
   "cell_type": "markdown",
   "id": "58cfe087-a002-4e04-8a03-7ae9bc1b6cc6",
   "metadata": {},
   "source": [
    "Check Boundaries from setups objects"
   ]
  },
  {
   "cell_type": "code",
   "execution_count": 8,
   "id": "8fc13779-8051-4795-b97c-590a64f43c1a",
   "metadata": {},
   "outputs": [
    {
     "data": {
      "text/plain": "[]"
     },
     "execution_count": 8,
     "metadata": {},
     "output_type": "execute_result"
    }
   ],
   "source": [
    "h3d.boundaries"
   ]
  },
  {
   "cell_type": "markdown",
   "id": "5151626f-fd01-48d5-bcc6-24df7c7fe0ba",
   "metadata": {},
   "source": [
    "# Hide all nets"
   ]
  },
  {
   "cell_type": "markdown",
   "id": "necessary-sydney",
   "metadata": {
    "pycharm": {
     "name": "#%% md\n"
    }
   },
   "source": [
    "Enable Visibility for few nets"
   ]
  },
  {
   "cell_type": "code",
   "execution_count": 9,
   "id": "4d396090-0c3a-4f5c-b030-25d8e388765f",
   "metadata": {},
   "outputs": [
    {
     "data": {
      "text/plain": "True"
     },
     "execution_count": 9,
     "metadata": {},
     "output_type": "execute_result"
    }
   ],
   "source": [
    "h3d.modeler.primitives.change_net_visibility(visible=False)\n"
   ]
  },
  {
   "cell_type": "markdown",
   "id": "3f79025e-f836-4a19-a7da-38133bbf1fbb",
   "metadata": {},
   "source": [
    "# Show only 2 nets"
   ]
  },
  {
   "cell_type": "code",
   "execution_count": 10,
   "id": "expected-korean",
   "metadata": {
    "collapsed": false,
    "jupyter": {
     "outputs_hidden": false
    },
    "pycharm": {
     "name": "#%%\n"
    }
   },
   "outputs": [
    {
     "data": {
      "text/plain": "True"
     },
     "execution_count": 10,
     "metadata": {},
     "output_type": "execute_result"
    }
   ],
   "source": [
    "h3d.modeler.primitives.change_net_visibility([\"A0_GPIO\", \"A0_MUX\"], visible=True)"
   ]
  },
  {
   "cell_type": "markdown",
   "id": "5b079d91-3187-4353-a5e3-a99305e2af69",
   "metadata": {},
   "source": [
    "# Show all layers"
   ]
  },
  {
   "cell_type": "markdown",
   "id": "informative-launch",
   "metadata": {
    "pycharm": {
     "name": "#%% md\n"
    }
   },
   "source": [
    "Show all the layers"
   ]
  },
  {
   "cell_type": "code",
   "execution_count": 11,
   "id": "compact-station",
   "metadata": {
    "collapsed": false,
    "jupyter": {
     "outputs_hidden": false
    },
    "pycharm": {
     "name": "#%%\n"
    }
   },
   "outputs": [],
   "source": [
    "layers = h3d.modeler.layers.all_signal_layers\n",
    "for lay in layers:\n",
    "    layer=h3d.modeler.layers.layers[h3d.modeler.layers.layer_id(lay)]\n",
    "    layer.IsVisible = True\n",
    "    layer.update_stackup_layer()\n"
   ]
  },
  {
   "cell_type": "markdown",
   "id": "31243351-dfd0-43e5-9b2e-8e8ad473c88b",
   "metadata": {},
   "source": [
    "# Change Layer Color"
   ]
  },
  {
   "cell_type": "code",
   "execution_count": 12,
   "id": "discrete-singles",
   "metadata": {
    "collapsed": false,
    "jupyter": {
     "outputs_hidden": false
    },
    "pycharm": {
     "name": "#%%\n"
    }
   },
   "outputs": [
    {
     "data": {
      "text/plain": "'mm'"
     },
     "execution_count": 12,
     "metadata": {},
     "output_type": "execute_result"
    }
   ],
   "source": [
    "layer=h3d.modeler.layers.layers[h3d.modeler.layers.layer_id(\"TOP\")]\n",
    "layer.set_layer_color(0,255,0)\n",
    "h3d.modeler.fit_all()\n",
    "h3d.modeler.model_units"
   ]
  },
  {
   "cell_type": "markdown",
   "id": "8caacbc8-e252-4b9d-b05d-bb2f067c8a6b",
   "metadata": {},
   "source": [
    "# Disable component visibility for TOP and BOTTOM\n",
    "update_stackup_layer will apply modification to layout"
   ]
  },
  {
   "cell_type": "markdown",
   "id": "infinite-smith",
   "metadata": {},
   "source": [
    "Disable component visibility for TOP and BOTTOM\n",
    "update_stackup_layer will apply modification to layout"
   ]
  },
  {
   "cell_type": "code",
   "execution_count": 13,
   "id": "usual-zealand",
   "metadata": {
    "collapsed": false,
    "jupyter": {
     "outputs_hidden": false
    },
    "pycharm": {
     "name": "#%%\n"
    }
   },
   "outputs": [
    {
     "data": {
      "text/plain": "True"
     },
     "execution_count": 13,
     "metadata": {},
     "output_type": "execute_result"
    }
   ],
   "source": [
    "top = h3d.modeler.layers.layers[h3d.modeler.layers.layer_id(\"TOP\")]\n",
    "top.IsVisibleComponent = False\n",
    "top.update_stackup_layer()\n",
    "\n",
    "bot = h3d.modeler.layers.layers[h3d.modeler.layers.layer_id(\"BOTTOM\")]\n",
    "bot.IsVisibleComponent = False\n",
    "bot.update_stackup_layer()"
   ]
  },
  {
   "cell_type": "markdown",
   "id": "vocational-semester",
   "metadata": {
    "pycharm": {
     "name": "#%% md\n"
    }
   },
   "source": [
    "# Fit All to visualize all"
   ]
  },
  {
   "cell_type": "code",
   "execution_count": 14,
   "id": "faced-deadline",
   "metadata": {
    "collapsed": false,
    "jupyter": {
     "outputs_hidden": false
    },
    "pycharm": {
     "name": "#%%\n"
    }
   },
   "outputs": [],
   "source": [
    "h3d.modeler.fit_all()"
   ]
  },
  {
   "cell_type": "markdown",
   "id": "monetary-photograph",
   "metadata": {
    "pycharm": {
     "name": "#%% md\n"
    }
   },
   "source": [
    "Enable and run the following command to close the desktop"
   ]
  },
  {
   "cell_type": "code",
   "execution_count": 15,
   "id": "therapeutic-queens",
   "metadata": {
    "collapsed": false,
    "jupyter": {
     "outputs_hidden": false
    },
    "pycharm": {
     "name": "#%%\n"
    }
   },
   "outputs": [],
   "source": [
    "d.force_close_desktop()\n"
   ]
  },
  {
   "cell_type": "code",
   "execution_count": null,
   "id": "f1f5fec1-8b3a-442b-9ee0-b952c191fb9d",
   "metadata": {},
   "outputs": [],
   "source": []
  }
 ],
 "metadata": {
  "kernelspec": {
   "display_name": "Python 3",
   "language": "python",
   "name": "python3"
  },
  "language_info": {
   "codemirror_mode": {
    "name": "ipython",
    "version": 3
   },
   "file_extension": ".py",
   "mimetype": "text/x-python",
   "name": "python",
   "nbconvert_exporter": "python",
   "pygments_lexer": "ipython3",
   "version": "3.8.5"
  }
 },
 "nbformat": 4,
 "nbformat_minor": 5
}