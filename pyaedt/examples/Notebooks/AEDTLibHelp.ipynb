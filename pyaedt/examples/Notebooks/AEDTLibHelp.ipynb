{
 "cells": [
  {
   "cell_type": "code",
   "execution_count": 1,
   "id": "5830b8b8-603c-4f26-a723-412bf1d6a57a",
   "metadata": {},
   "outputs": [],
   "source": [
    "import sys\n",
    "import os\n",
    "import pathlib\n",
    "local_path = os.path.abspath('')\n",
    "module_path = pathlib.Path(local_path)\n",
    "aedt_lib_path = module_path.parent.parent\n",
    "sys.path.append(os.path.join(aedt_lib_path))"
   ]
  },
  {
   "cell_type": "code",
   "execution_count": 4,
   "id": "5d1800c6-647d-4945-bf03-46cdbd71e6c1",
   "metadata": {},
   "outputs": [],
   "source": [
    "from pyaedt import pyaedt_help"
   ]
  },
  {
   "cell_type": "code",
   "execution_count": 5,
   "id": "0e0ab01c-443d-4861-ada2-df35262ba3a6",
   "metadata": {},
   "outputs": [
    {
     "data": {
      "text/plain": "True"
     },
     "execution_count": 5,
     "metadata": {},
     "output_type": "execute_result"
    }
   ],
   "source": [
    "pyaedt_help(browser=\"firefox\")"
   ]
  },
  {
   "cell_type": "code",
   "execution_count": 4,
   "id": "de182755-2f9e-47c6-a2f9-fdbedcaf4ff2",
   "metadata": {},
   "outputs": [
    {
     "data": {
      "text/plain": [
       "True"
      ]
     },
     "execution_count": 4,
     "metadata": {},
     "output_type": "execute_result"
    }
   ],
   "source": [
    "pyaedt_help(\"hfss\")"
   ]
  },
  {
   "cell_type": "code",
   "execution_count": 4,
   "id": "2a18d1d2-943c-454a-9b1c-4df5688fecdd",
   "metadata": {},
   "outputs": [
    {
     "data": {
      "text/plain": [
       "True"
      ]
     },
     "execution_count": 4,
     "metadata": {},
     "output_type": "execute_result"
    }
   ],
   "source": [
    "pyaedt_help(\"create_box\")"
   ]
  }
 ],
 "metadata": {
  "kernelspec": {
   "display_name": "Python 3",
   "language": "python",
   "name": "python3"
  },
  "language_info": {
   "codemirror_mode": {
    "name": "ipython",
    "version": 3
   },
   "file_extension": ".py",
   "mimetype": "text/x-python",
   "name": "python",
   "nbconvert_exporter": "python",
   "pygments_lexer": "ipython3",
   "version": "3.8.5"
  }
 },
 "nbformat": 4,
 "nbformat_minor": 5
}