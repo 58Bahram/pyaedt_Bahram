{
 "cells": [
  {
   "cell_type": "markdown",
   "metadata": {},
   "source": [
    "## Simple pyaedt Example\n",
    "**1. Set the path to the pyaedt and run imports**\n",
    "."
   ]
  },
  {
   "cell_type": "code",
   "execution_count": 1,
   "metadata": {},
   "outputs": [
    {
     "name": "stdout",
     "output_type": "stream",
     "text": [
      "C:\\Users\\mcapodif\\AppData\\Local\\Temp\\Example_MKP8ZP\n"
     ]
    }
   ],
   "source": [
    "import sys\n",
    "import os\n",
    "import pathlib\n",
    "import shutil\n",
    "import time\n",
    "import numpy as np\n",
    "import matplotlib.pyplot as plt\n",
    "import shutil\n",
    "local_path = os.path.abspath('')\n",
    "module_path = pathlib.Path(local_path)\n",
    "root_path = module_path.parent.parent\n",
    "root_path2 = root_path.parent\n",
    "sys.path.append(os.path.join(root_path))\n",
    "sys.path.append(os.path.join(root_path2))\n",
    "example_path =os.path.join(module_path.parent.parent,\"Examples\",\"Examples_Files\")\n",
    "from pyaedt.core import Desktop\n",
    "from pyaedt.core import Maxwell2d\n",
    "from pyaedt.core.generic.general_methods import generate_unique_name\n",
    "project_dir = os.path.join(os.environ[\"TEMP\"], generate_unique_name(\"Example\"))\n",
    "if not os.path.exists(project_dir): os.makedirs(project_dir)\n",
    "print(project_dir)\n"
   ]
  },
  {
   "cell_type": "code",
   "execution_count": 2,
   "metadata": {},
   "outputs": [
    {
     "name": "stdout",
     "output_type": "stream",
     "text": [
      "Info: Using Windows TaskManager to Load processes\n",
      "Info: Ansoft.ElectronicsDesktop.2021.1 Started with Process ID 26992\n",
      "Info: pyaedt v0.5.0 started\n",
      "Info: Started external COM connection with module pythonnet_v3\n",
      "Info: Python version 3.8.5 (default, Sep  3 2020, 21:29:08) [MSC v.1916 64 bit (AMD64)]\n",
      "Info: Exe path: C:\\Anaconda3\\python.exe\n"
     ]
    },
    {
     "data": {
      "text/plain": "'C:\\\\Users\\\\mcapodif\\\\AppData\\\\Local\\\\Temp\\\\Example_MKP8ZP\\\\expression_excitation.aedt'"
     },
     "execution_count": 2,
     "metadata": {},
     "output_type": "execute_result"
    }
   ],
   "source": [
    "if not \"oDesk\" in dir():\n",
    "    oDesk = Desktop(specified_version=\"2021.1\", AlwaysNew=False) \n",
    "project_name='expression_excitation'\n",
    "project_full_path = os.path.join(project_dir, project_name + '.aedt')\n",
    "shutil.copy2(os.path.join(example_path, project_name+\".aedt\"), project_full_path)"
   ]
  },
  {
   "cell_type": "markdown",
   "metadata": {},
   "source": [
    "**2. Insert a Maxwell design and instantiate Geometry modeler.**"
   ]
  },
  {
   "cell_type": "code",
   "execution_count": 3,
   "metadata": {},
   "outputs": [
    {
     "name": "stdout",
     "output_type": "stream",
     "text": [
      "Info: Design Loaded\n",
      "Info: Successfully loaded project materials !\n",
      "Info: Materials Loaded\n"
     ]
    }
   ],
   "source": [
    "m2d=Maxwell2d(project_full_path)\n"
   ]
  },
  {
   "cell_type": "code",
   "execution_count": 4,
   "metadata": {},
   "outputs": [
    {
     "data": {
      "text/plain": "True"
     },
     "execution_count": 4,
     "metadata": {},
     "output_type": "execute_result"
    }
   ],
   "source": [
    "m2d.analyse_nominal()"
   ]
  },
  {
   "cell_type": "markdown",
   "metadata": {},
   "source": [
    "**3. Create the Model**"
   ]
  },
  {
   "cell_type": "markdown",
   "metadata": {},
   "source": [
    "---\n",
    "\n",
    "***This block doesn't run.***"
   ]
  },
  {
   "cell_type": "markdown",
   "metadata": {},
   "source": [
    "---"
   ]
  },
  {
   "cell_type": "code",
   "execution_count": 5,
   "metadata": {},
   "outputs": [],
   "source": [
    "import time\n",
    "start = time.time()\n",
    "cutlist = [\"Global:XY\"]\n",
    "face_lists = m2d.modeler.primitives.get_object_faces(\"Rectangle1\")\n",
    "face_lists += m2d.modeler.primitives.get_object_faces(\"Rectangle1_1\")\n",
    "timesteps=[str(i*1e-3)+\"s\" for i in range(21)]"
   ]
  },
  {
   "cell_type": "code",
   "execution_count": 6,
   "metadata": {},
   "outputs": [
    {
     "name": "stdout",
     "output_type": "stream",
     "text": [
      "C:\\Users\\mcapodif\\AppData\\Local\\Temp\\Example_MKP8ZP\\Mag_B_XGJD4K0\n"
     ]
    }
   ],
   "source": [
    "animatedGif=m2d.post.animate_fields_from_aedtplt_2(\"Mag_B\", face_lists, \"Surface\", intrinsic_dict={'Time': '0s'}, variation_variable=\"Time\",variation_list=timesteps, off_screen=True, export_gif=True)\n"
   ]
  },
  {
   "cell_type": "code",
   "execution_count": 9,
   "metadata": {},
   "outputs": [
    {
     "data": {
      "text/plain": "Image(value=b'GIF89a\\x00\\x04\\x00\\x03\\x87\\x00\\x00\\xff\\xff\\xff\\xf8\\xf8\\xf8\\xef\\xef\\xef\\xea\\xea\\xea\\xe4\\xe4\\xe5\\x…",
      "application/vnd.jupyter.widget-view+json": {
       "version_major": 2,
       "version_minor": 0,
       "model_id": "0a30b5047a2c46e8a4c94f37694b04b1"
      }
     },
     "metadata": {},
     "output_type": "display_data"
    }
   ],
   "source": [
    "from ipywidgets import Image\n",
    "from IPython import display\n",
    "file = open(animatedGif , \"rb\")\n",
    "image = file.read()\n",
    "progress= Image(\n",
    "    value=image,\n",
    "    format='gif',\n",
    "    width=1200,\n",
    "    height=1200)\n",
    "display.display(progress)"
   ]
  },
  {
   "cell_type": "markdown",
   "metadata": {},
   "source": [
    "**4. Solve**"
   ]
  },
  {
   "cell_type": "markdown",
   "metadata": {},
   "source": [
    "**5. Save the project and release the desktop object**"
   ]
  },
  {
   "cell_type": "code",
   "execution_count": 8,
   "metadata": {},
   "outputs": [],
   "source": [
    "# Save the project and close it.\n",
    "# oDesk.release_desktop(close_projects=True)  # doesn't work from Jupyter\n",
    "oDesk.force_close_desktop()  # Use this from Jupyter"
   ]
  },
  {
   "cell_type": "markdown",
   "metadata": {},
   "source": [
    "**Everything beyond this point is a \"playground\" for messing around.**"
   ]
  },
  {
   "cell_type": "code",
   "execution_count": 8,
   "metadata": {},
   "outputs": [],
   "source": []
  }
 ],
 "metadata": {
  "kernelspec": {
   "display_name": "Python 3",
   "language": "python",
   "name": "python3"
  },
  "language_info": {
   "codemirror_mode": {
    "name": "ipython",
    "version": 3
   },
   "file_extension": ".py",
   "mimetype": "text/x-python",
   "name": "python",
   "nbconvert_exporter": "python",
   "pygments_lexer": "ipython3",
   "version": "3.8.5"
  }
 },
 "nbformat": 4,
 "nbformat_minor": 4
}