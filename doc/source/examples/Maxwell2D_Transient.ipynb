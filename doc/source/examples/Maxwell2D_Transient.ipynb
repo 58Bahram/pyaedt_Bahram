{
  "cells": [
    {
      "cell_type": "code",
      "execution_count": null,
      "metadata": {
        "collapsed": false
      },
      "outputs": [],
      "source": [
        "%matplotlib inline"
      ]
    },
    {
      "cell_type": "markdown",
      "metadata": {},
      "source": [
        "# Maxwell 2D Analysis\r\n\r\nThis tutorial shows how you can use PyAedt to create a project in in\r\nMaxwell2D and run a simulation\r\n"
      ]
    },
    {
      "cell_type": "code",
      "execution_count": null,
      "metadata": {
        "collapsed": false
      },
      "outputs": [],
      "source": [
        "import sys\nimport os\nimport pathlib\nimport shutil\nimport time\nimport numpy as np\nimport matplotlib.pyplot as plt\nimport shutil\nlocal_path = os.path.abspath('')\nmodule_path = pathlib.Path(local_path)\nroot_path = module_path.parent.parent\nroot_path2 = root_path.parent\nsys.path.append(os.path.join(root_path))\nsys.path.append(os.path.join(root_path2))\nexample_path =os.path.join(module_path.parent,\"Examples\",\"Examples_Files\")\nfrom pyaedt import Desktop\nfrom pyaedt import Maxwell2d\nfrom pyaedt import generate_unique_name\nproject_dir = os.path.join(os.environ[\"TEMP\"], generate_unique_name(\"Example\"))\nif not os.path.exists(project_dir): os.makedirs(project_dir)\nprint(project_dir)\n\n\nif not \"oDesk\" in dir():\n    oDesk = Desktop(specified_version=\"2021.1\", NG=True, AlwaysNew=False)"
      ]
    },
    {
      "cell_type": "markdown",
      "metadata": {},
      "source": [
        "2.  Insert a Maxwell design and instantiate Geometry modeler.\r\n"
      ]
    },
    {
      "cell_type": "code",
      "execution_count": null,
      "metadata": {
        "collapsed": false
      },
      "outputs": [],
      "source": [
        "m2d=Maxwell2d(solution_type=\"TransientXY\")\nm2d.save_project(os.path.join(project_dir,\"M2d.aedt\"))\nid1=m2d.modeler.primitives.create_rectangle([0,0,0],[20,10],\"Rectangle1\", \"copper\")\nm2d.modeler.duplicate_along_line(id1, [14,0,0])\n\nm2d.modeler.primitives.create_region([100,100,100,100,100,100])\nm2d.assign_winding([\"Rectangle1\", \"Rectangle1_1\"], name=\"PHA\")\nm2d.assign_balloon(m2d.modeler.primitives[\"Region\"].edges)\n\nsetup = m2d.create_setup()\nsetup.props[\"StopTime\"] =\"0.02s\"\nsetup.props[\"TimeStep\"] = \"0.0002s\"\nsetup.props[\"SaveFieldsType\"] = \"Every N Steps\"\nsetup.props[\"N Steps\"] = \"1\"\nsetup.props[\"Steps From\"] =\"0s\"\nsetup.props[\"Steps To\"] = \"0.002s\"\nsetup.update()\nm2d.post.create_rectangular_plot(\"InputCurrent(PHA)\",primary_sweep_variable=\"Time\", families_dict={\"Time\":[\"All\"]}, plotname=\"Winding Plot 1\")"
      ]
    },
    {
      "cell_type": "markdown",
      "metadata": {},
      "source": [
        "3.  Solve the Model\r\n"
      ]
    },
    {
      "cell_type": "code",
      "execution_count": null,
      "metadata": {
        "collapsed": false
      },
      "outputs": [],
      "source": [
        "m2d.analyse_nominal()"
      ]
    },
    {
      "cell_type": "markdown",
      "metadata": {},
      "source": [
        "3.  Create the Output\r\n"
      ]
    },
    {
      "cell_type": "code",
      "execution_count": null,
      "metadata": {
        "collapsed": false
      },
      "outputs": [],
      "source": [
        "import time\nstart = time.time()\ncutlist = [\"Global:XY\"]\nface_lists = m2d.modeler.primitives.get_object_faces(\"Rectangle1\")\nface_lists += m2d.modeler.primitives.get_object_faces(\"Rectangle1_1\")\ntimesteps=[str(i*1e-3)+\"s\" for i in range(21)]\n\nanimatedGif=m2d.post.animate_fields_from_aedtplt_2(\"Mag_B\", face_lists, \"Surface\", intrinsic_dict={'Time': '0s'}, variation_variable=\"Time\",variation_list=timesteps, off_screen=True, export_gif=True)"
      ]
    },
    {
      "cell_type": "markdown",
      "metadata": {},
      "source": [
        "Save the project and close it.\r\n"
      ]
    },
    {
      "cell_type": "code",
      "execution_count": null,
      "metadata": {
        "collapsed": false
      },
      "outputs": [],
      "source": [
        "oDesk.force_close_desktop()"
      ]
    }
  ],
  "metadata": {
    "kernelspec": {
      "display_name": "Python 3",
      "language": "python",
      "name": "python3"
    },
    "language_info": {
      "codemirror_mode": {
        "name": "ipython",
        "version": 3
      },
      "file_extension": ".py",
      "mimetype": "text/x-python",
      "name": "python",
      "nbconvert_exporter": "python",
      "pygments_lexer": "ipython3",
      "version": "3.8.5"
    }
  },
  "nbformat": 4,
  "nbformat_minor": 0
}