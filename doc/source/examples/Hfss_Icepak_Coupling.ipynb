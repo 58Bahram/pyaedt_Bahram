{
  "cells": [
    {
      "cell_type": "code",
      "execution_count": null,
      "metadata": {
        "collapsed": false
      },
      "outputs": [],
      "source": [
        "%matplotlib inline"
      ]
    },
    {
      "cell_type": "markdown",
      "metadata": {},
      "source": [
        "# HFSS-Icepack Coupling Analysis\r\n\r\nThis Example shows how to create a full project from scratch in HFSS and\r\nIcepak (linked to HFSS). the project creates a setup, solves it and\r\ncreate post processing output. It includes a lot of commands to show\r\npyaedt Capabilitiesn\r\n"
      ]
    },
    {
      "cell_type": "code",
      "execution_count": null,
      "metadata": {
        "collapsed": false
      },
      "outputs": [],
      "source": [
        "import os\nimport sys\nimport pathlib\nimport glob\nfrom IPython.display import Image\n\nlocal_path = os.path.abspath('')\nmodule_path = pathlib.Path(local_path)\naedt_lib_path = module_path.parent.parent.parent\npdf_path1 =  os.path.join(aedt_lib_path, \"pyaedt\", \"core\", \"Dlls\", \"PDFReport\")\nsys.path.append(os.path.join(module_path))\nsys.path.append(os.path.join(aedt_lib_path))\nsys.path.append(os.path.join(pdf_path1))\nfrom pyaedt import generate_unique_name\nproject_dir = os.path.join(os.environ[\"TEMP\"], generate_unique_name(\"Example\"))\nif not os.path.exists(project_dir): os.makedirs(project_dir)\nprint(project_dir)\n\n\n\nfrom pyaedt import Hfss\nfrom pyaedt import Icepak\nfrom pyaedt import Desktop\nimport clr\nimport numpy as np\nimport matplotlib.pyplot as plt\nimport math\nadvanced = True"
      ]
    },
    {
      "cell_type": "markdown",
      "metadata": {},
      "source": [
        "Define Project Directory, AEDT Version and Project Name Project will be\r\nrun in non Graphical Mode\r\n"
      ]
    },
    {
      "cell_type": "code",
      "execution_count": null,
      "metadata": {
        "collapsed": false
      },
      "outputs": [],
      "source": [
        "desktopVersion = \"2021.1\"\nNonGraphical = True\nNewThread = False\nproject_name = \"Test_Jupyter_NG\"\nproject_file = os.path.join(project_dir, project_name + \".aedt\")"
      ]
    },
    {
      "cell_type": "markdown",
      "metadata": {},
      "source": [
        "Launch Electronics Desktop and Initialize HFSS app the command\r\nInitializes the HFSS Design in AEDT. if there is a running HFSS Design\r\nthe aedtapp will be linked to it, otherwise a new design will be run.\r\n"
      ]
    },
    {
      "cell_type": "code",
      "execution_count": null,
      "metadata": {
        "collapsed": false
      },
      "outputs": [],
      "source": [
        "desktop=Desktop(desktopVersion, NonGraphical, NewThread)\naedtapp = Hfss()"
      ]
    },
    {
      "cell_type": "markdown",
      "metadata": {},
      "source": [
        "Variables Settings A variable can be initialized simpy by creating it as\r\na list object. if user enter \\$ then the variable will be created for\r\nproject otherwise for design.\r\n"
      ]
    },
    {
      "cell_type": "code",
      "execution_count": null,
      "metadata": {
        "collapsed": false
      },
      "outputs": [],
      "source": [
        "aedtapp[\"$coax_dimension\"] = \"100mm\"\naedtapp.save_project(project_file)\nudp = aedtapp.modeler.Position(0, 0, 0)\naedtapp[\"inner\"] = \"3mm\""
      ]
    },
    {
      "cell_type": "markdown",
      "metadata": {},
      "source": [
        "Modeler Create the Coaxial, 3 Cylinders. Parameters can be applied\r\ndirectly to create_cylinder method, also material can be assigned\r\ndirectly to the object creation action. Alternatively the material can\r\nbe assigned usign assignmaterial function\r\n"
      ]
    },
    {
      "cell_type": "code",
      "execution_count": null,
      "metadata": {
        "collapsed": false
      },
      "outputs": [],
      "source": [
        "id1 = aedtapp.modeler.primitives.create_cylinder(aedtapp.CoordinateSystemPlane.XYPlane, udp, \"inner\", \"$coax_dimension\",\n                                                 0, \"inner\")\nid2 = aedtapp.modeler.primitives.create_cylinder(aedtapp.CoordinateSystemPlane.XYPlane, udp, 8, \"$coax_dimension\",\n                                                 0, matname=\"teflon_based\")\nid3 = aedtapp.modeler.primitives.create_cylinder(aedtapp.CoordinateSystemPlane.XYPlane, udp, 10, \"$coax_dimension\",\n                                                 0, \"outer\")\naedtapp[\"$height\"] = \"150mm\"\naedtapp.assignmaterial([id1, id3], \"Copper\")"
      ]
    },
    {
      "cell_type": "markdown",
      "metadata": {},
      "source": [
        "Modeler Operations Subtract, add, etc. can be done using id of object or\r\nobject name\r\n"
      ]
    },
    {
      "cell_type": "code",
      "execution_count": null,
      "metadata": {
        "collapsed": false
      },
      "outputs": [],
      "source": [
        "aedtapp.modeler.subtract(id3, id2, True)\naedtapp.modeler.subtract(id2, id1, True)"
      ]
    },
    {
      "cell_type": "markdown",
      "metadata": {},
      "source": [
        "Mesh Operations\r\n"
      ]
    },
    {
      "cell_type": "code",
      "execution_count": null,
      "metadata": {
        "collapsed": false
      },
      "outputs": [],
      "source": [
        "aedtapp.mesh.assign_initial_mesh_from_slider(6)\naedtapp.mesh.assign_model_resolution([aedtapp.modeler.primitives.get_obj_name(id1), aedtapp.modeler.primitives.get_obj_name(id3)], None)\naedtapp.mesh.assign_length_mesh(aedtapp.modeler.primitives.get_object_faces(id2), False, 1, 2000)"
      ]
    },
    {
      "cell_type": "markdown",
      "metadata": {},
      "source": [
        "Automatic Excitations Creation\r\n"
      ]
    },
    {
      "cell_type": "code",
      "execution_count": null,
      "metadata": {
        "collapsed": false
      },
      "outputs": [],
      "source": [
        "aedtapp.create_wave_port_between_objects(\"inner\", \"outer\",axisdir=0, add_pec_cap=True, portname=\"P1\")\naedtapp.create_wave_port_between_objects(\"inner\", \"outer\",axisdir=3, add_pec_cap=True, portname=\"P2\")\nportnames = aedtapp.get_all_sources()\naedtapp.modeler.fit_all()"
      ]
    },
    {
      "cell_type": "markdown",
      "metadata": {},
      "source": [
        "Setup Generation\r\n"
      ]
    },
    {
      "cell_type": "code",
      "execution_count": null,
      "metadata": {
        "collapsed": false
      },
      "outputs": [],
      "source": [
        "aedtapp.set_active_design(aedtapp.design_name)\nsetup = aedtapp.create_setup(\"MySetup\")\nsetup.props[\"Frequency\"] = \"1GHz\"\nsetup.props[\"BasisOrder\"] = 2\nsetup.props[\"MaximumPasses\"] = 1\nsetup.update()\nsweepname = aedtapp.create_frequency_sweep(\"MySetup\", \"GHz\", 0.8, 1.2)"
      ]
    },
    {
      "cell_type": "markdown",
      "metadata": {},
      "source": [
        "ICEPAK Model Creation Import model from HFSS\r\n"
      ]
    },
    {
      "cell_type": "code",
      "execution_count": null,
      "metadata": {
        "collapsed": false
      },
      "outputs": [],
      "source": [
        "ipkapp = Icepak()\nipkapp.copy_solid_bodies_from(aedtapp)"
      ]
    },
    {
      "cell_type": "markdown",
      "metadata": {},
      "source": [
        "Import model from HFSS\r\n"
      ]
    },
    {
      "cell_type": "code",
      "execution_count": null,
      "metadata": {
        "collapsed": false
      },
      "outputs": [],
      "source": [
        "surfaceobj = [\"inner\", \"outer\"]\nipkapp.assign_em_losses(aedtapp.design_name, \"MySetup\", \"LastAdaptive\", \"1GHz\", surfaceobj, paramlist=[\"$coax_dimension\",\"inner\"])\nipkapp.edit_design_settings(aedtapp.GravityDirection.ZNeg)"
      ]
    },
    {
      "cell_type": "markdown",
      "metadata": {},
      "source": [
        "Setup Project in Icepak When you create a setup, default settings will\r\nbe applied When you need to change a property of the setup you can use\r\nprops command and pass the right value to the property value. The update\r\nfunction will apply the settings to the setup\r\n"
      ]
    },
    {
      "cell_type": "code",
      "execution_count": null,
      "metadata": {
        "collapsed": false
      },
      "outputs": [],
      "source": [
        "setup_ipk = ipkapp.create_setup(\"SetupIPK\")\nsetup_ipk.props[\"Convergence Criteria - Max Iterations\"] = 3\nsetup_ipk.update()"
      ]
    },
    {
      "cell_type": "markdown",
      "metadata": {},
      "source": [
        "Mesh Settings\r\n"
      ]
    },
    {
      "cell_type": "code",
      "execution_count": null,
      "metadata": {
        "collapsed": false
      },
      "outputs": [],
      "source": [
        "airbox = ipkapp.modeler.primitives.get_obj_id(\"Region\")\nipkapp.modeler.primitives[airbox].display_wireframe(True)\nairfaces = ipkapp.modeler.primitives.get_object_faces(airbox)\nipkapp.assign_openings(airfaces)"
      ]
    },
    {
      "cell_type": "markdown",
      "metadata": {},
      "source": [
        "Cloase and Open Projects This command shows how to save, close and load\r\nprojects. This can be helpful in case of operations on multiple\r\nprojects.\r\n"
      ]
    },
    {
      "cell_type": "code",
      "execution_count": null,
      "metadata": {
        "collapsed": false
      },
      "outputs": [],
      "source": [
        "aedtapp.save_project()\naedtapp.close_project(project_name)\naedtapp.load_project(project_file)\nipkapp = Icepak()\nipkapp.solution_type = ipkapp.SolutionTypes.Icepak.SteadyTemperatureAndFlow\nipkapp.modeler.fit_all()"
      ]
    },
    {
      "cell_type": "markdown",
      "metadata": {},
      "source": [
        "Solve Icepak Icepak will solve also Solve HFSS Sweep when Icepak is\r\nfinished\r\n"
      ]
    },
    {
      "cell_type": "code",
      "execution_count": null,
      "metadata": {
        "collapsed": false
      },
      "outputs": [],
      "source": [
        "setup1 = ipkapp.analyze_setup(\"SetupIPK\")\naedtapp.save_project()\naedtapp.modeler.fit_all()\naedtapp.analyze_setup(\"MySetup\")"
      ]
    },
    {
      "cell_type": "markdown",
      "metadata": {},
      "source": [
        "Plot and Export\r\n\r\n:   Generating images and Field Plots\r\n\r\nThis section we generate Field Plots on HFSS Projects and we export it\r\nas an image\r\n"
      ]
    },
    {
      "cell_type": "code",
      "execution_count": null,
      "metadata": {
        "collapsed": false
      },
      "outputs": [],
      "source": [
        "cutlist = [\"Global:XY\", \"Global:XZ\", \"Global:YZ\"]\nvollist = [aedtapp.modeler.primitives.get_obj_name(id2)]\nsetup_name = \"MySetup : LastAdaptive\"\nquantity_name = \"ComplexMag_E\"\nquantity_name2 = \"ComplexMag_H\"\nsurflist = aedtapp.modeler.primitives.get_object_faces(id1)\nintrinsic = {\"Freq\": \"1GHz\", \"Phase\": \"0deg\"}\nsurflist = aedtapp.modeler.primitives.get_object_faces(\"outer\")\nplot1 = aedtapp.post.create_fieldplot_surface(surflist, quantity_name2, setup_name, intrinsic)\n\nresults_folder = os.path.join(aedtapp.project_path,\"Coaxial_Results_NG\")\nif not os.path.exists(results_folder):\n    os.mkdir(results_folder)\n\naedtapp.post.plot_field_from_fieldplot(plot1.name, project_path=results_folder, meshplot=False, setup_name=setup_name,\n                                             intrinsic_dict=intrinsic, imageformat=\"jpg\", view=\"iso\")\n\nimport time\nstart = time.time()\ncutlist = [\"Global:XY\"]\nphases=[str(i*5)+\"deg\" for i in range(18)]\naedtapp.post.animate_fields_from_aedtplt_2(quantityname=\"Mag_E\",object_list=cutlist,plottype=\"CutPlane\",meshplot=False, setup_name=aedtapp.nominal_adaptive,intrinsic_dict={\"Freq\":\"1GHz\", \"Phase\":\"0deg\"},project_path=results_folder, variation_variable=\"Phase\",variation_list=phases, off_screen=True,export_gif=True)\nendtime = time.time() - start\nprint(\"Total Time\", endtime)"
      ]
    },
    {
      "cell_type": "markdown",
      "metadata": {},
      "source": [
        "Create Icepak Plots and export Functions are exactly the same as seen\r\nabove for HFSS. Only the Quantity is different.\r\n"
      ]
    },
    {
      "cell_type": "code",
      "execution_count": null,
      "metadata": {
        "collapsed": false
      },
      "outputs": [],
      "source": [
        "quantity_name = \"Temperature\"\nsetup_name = ipkapp.existing_analysis_sweeps[0]\nintrinsic = \"\"\nsurflist = ipkapp.modeler.primitives.get_object_faces(\"inner\")\nplot5 = ipkapp.post.create_fieldplot_surface(surflist, \"SurfTemperature\")\n\nipkapp.post.plot_field_from_fieldplot(plot5.name, project_path=results_folder, meshplot=False, setup_name=setup_name, imageformat=\"jpg\", view=\"iso\")\n\naedtapp.save_project()"
      ]
    },
    {
      "cell_type": "markdown",
      "metadata": {},
      "source": [
        "Usage of Matplotlib and Numpy to generate graph outside pyaedt\r\n"
      ]
    },
    {
      "cell_type": "code",
      "execution_count": null,
      "metadata": {
        "collapsed": false
      },
      "outputs": [],
      "source": [
        "if advanced:\n    trace_names = []\n    for el in portnames:\n        for el2 in portnames:\n            trace_names.append('S(' + el + ',' + el2 + ')')\n    cxt = ['Domain:=', 'Sweep']\n    families = ['Freq:=', ['All']]\n    my_data = aedtapp.post.get_report_data(expression=trace_names)\n    freq_data = np.array(my_data.sweeps[\"Freq\"])\n\n\n    comp = []\n    fig, ax = plt.subplots(figsize=(20, 10))\n\n    ax.set(xlabel='Frequency (Ghz)', ylabel='SParameters(dB)', title='Scattering Chart')\n    ax.grid()\n    for el in trace_names:\n        mag_data = np.array(my_data.data_db(el))\n        ax.plot(freq_data, mag_data)\n    plt.savefig(os.path.join(results_folder,project_name+\".svg\"))\n    plt.savefig(os.path.join(results_folder,project_name+\".jpg\"))\n    plt.show()"
      ]
    },
    {
      "cell_type": "markdown",
      "metadata": {},
      "source": [
        "Close AEDT and Closed Project\r\n"
      ]
    },
    {
      "cell_type": "code",
      "execution_count": null,
      "metadata": {
        "collapsed": false
      },
      "outputs": [],
      "source": [
        "aedtapp.close_project(aedtapp.project_name)\ndesktop.force_close_desktop()"
      ]
    }
  ],
  "metadata": {
    "kernelspec": {
      "display_name": "Python 3",
      "language": "python",
      "name": "python3"
    },
    "language_info": {
      "codemirror_mode": {
        "name": "ipython",
        "version": 3
      },
      "file_extension": ".py",
      "mimetype": "text/x-python",
      "name": "python",
      "nbconvert_exporter": "python",
      "pygments_lexer": "ipython3",
      "version": "3.8.5"
    }
  },
  "nbformat": 4,
  "nbformat_minor": 0
}