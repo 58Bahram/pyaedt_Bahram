{
  "cells": [
    {
      "cell_type": "code",
      "execution_count": null,
      "metadata": {
        "collapsed": false
      },
      "outputs": [],
      "source": [
        "%matplotlib inline"
      ]
    },
    {
      "cell_type": "markdown",
      "metadata": {},
      "source": [
        "# HFSS3DLayout Analysis\r\n\r\nThis Example shows how to use HFSS3DLayout combined with EDB to interact\r\nwith a layout\r\n"
      ]
    },
    {
      "cell_type": "code",
      "execution_count": null,
      "metadata": {
        "collapsed": false
      },
      "outputs": [],
      "source": [
        "import sys\nimport os\nimport pathlib\nimport shutil\n\n\n\nlocal_path = os.path.abspath('')\nmodule_path = pathlib.Path(local_path)\naedt_lib_path = module_path.parent.parent\nexample_path =os.path.join(module_path.parent, \"Examples_Files\")\nsys.path.append(os.path.join(aedt_lib_path))"
      ]
    },
    {
      "cell_type": "markdown",
      "metadata": {},
      "source": [
        "Copying Example in Temp Folder\r\n"
      ]
    },
    {
      "cell_type": "code",
      "execution_count": null,
      "metadata": {
        "collapsed": false
      },
      "outputs": [],
      "source": [
        "from pyaedt import Desktop\nfrom pyaedt import Hfss3dLayout\nfrom pyaedt import examples\nfrom pyaedt.generic.general_methods import generate_unique_name\n\n\n\ntargetfile=examples.download_aedb()\nprint(targetfile)"
      ]
    },
    {
      "cell_type": "markdown",
      "metadata": {},
      "source": [
        "Initializing Desktop Launching HFSS 3DLayout\r\n"
      ]
    },
    {
      "cell_type": "code",
      "execution_count": null,
      "metadata": {
        "collapsed": false
      },
      "outputs": [],
      "source": [
        "d = Desktop(\"2021.1\")\nh3d=Hfss3dLayout(targetfile)"
      ]
    },
    {
      "cell_type": "markdown",
      "metadata": {},
      "source": [
        "Disable visibility for all Nets Check Setups from setups objects\r\n"
      ]
    },
    {
      "cell_type": "code",
      "execution_count": null,
      "metadata": {
        "collapsed": false
      },
      "outputs": [],
      "source": [
        "h3d.setups[0].props"
      ]
    },
    {
      "cell_type": "markdown",
      "metadata": {},
      "source": [
        "Check Boundaries from setups objects\r\n"
      ]
    },
    {
      "cell_type": "code",
      "execution_count": null,
      "metadata": {
        "collapsed": false
      },
      "outputs": [],
      "source": [
        "h3d.boundaries"
      ]
    },
    {
      "cell_type": "markdown",
      "metadata": {},
      "source": [
        "# Hide all nets\r\n"
      ]
    },
    {
      "cell_type": "code",
      "execution_count": null,
      "metadata": {
        "collapsed": false
      },
      "outputs": [],
      "source": [
        "# Enable Visibility for few nets\n\n\nh3d.modeler.primitives.change_net_visibility(visible=False)"
      ]
    },
    {
      "cell_type": "markdown",
      "metadata": {},
      "source": [
        "Show only 2 nets\r\n"
      ]
    },
    {
      "cell_type": "code",
      "execution_count": null,
      "metadata": {
        "collapsed": false
      },
      "outputs": [],
      "source": [
        "h3d.modeler.primitives.change_net_visibility([\"A0_GPIO\", \"A0_MUX\"], visible=True)"
      ]
    },
    {
      "cell_type": "markdown",
      "metadata": {},
      "source": [
        "# Show all layers\r\n"
      ]
    },
    {
      "cell_type": "code",
      "execution_count": null,
      "metadata": {
        "collapsed": false
      },
      "outputs": [],
      "source": [
        "# Show all the layers\n\n\nlayers = h3d.modeler.layers.all_signal_layers\nfor lay in layers:\n    layer=h3d.modeler.layers.layers[h3d.modeler.layers.layer_id(lay)]\n    layer.IsVisible = True\n    layer.update_stackup_layer()"
      ]
    },
    {
      "cell_type": "markdown",
      "metadata": {},
      "source": [
        "Change Layer Color\r\n"
      ]
    },
    {
      "cell_type": "code",
      "execution_count": null,
      "metadata": {
        "collapsed": false
      },
      "outputs": [],
      "source": [
        "layer=h3d.modeler.layers.layers[h3d.modeler.layers.layer_id(\"TOP\")]\nlayer.set_layer_color(0,255,0)\nh3d.modeler.fit_all()\nh3d.modeler.model_units"
      ]
    },
    {
      "cell_type": "code",
      "execution_count": null,
      "metadata": {
        "collapsed": false
      },
      "outputs": [],
      "source": [
        "# Disable component visibility for TOP and BOTTOM\n# update_stackup_layer will apply modification to layout"
      ]
    },
    {
      "cell_type": "markdown",
      "metadata": {},
      "source": [
        "Disable component visibility for TOP and BOTTOM update_stackup_layer\r\nwill apply modification to layout\r\n"
      ]
    },
    {
      "cell_type": "code",
      "execution_count": null,
      "metadata": {
        "collapsed": false
      },
      "outputs": [],
      "source": [
        "top = h3d.modeler.layers.layers[h3d.modeler.layers.layer_id(\"TOP\")]\ntop.IsVisibleComponent = False\ntop.update_stackup_layer()\n\nbot = h3d.modeler.layers.layers[h3d.modeler.layers.layer_id(\"BOTTOM\")]\nbot.IsVisibleComponent = False\nbot.update_stackup_layer()"
      ]
    },
    {
      "cell_type": "code",
      "execution_count": null,
      "metadata": {
        "collapsed": false
      },
      "outputs": [],
      "source": [
        "# Fit All to visualize all\n\n\nh3d.modeler.fit_all()"
      ]
    },
    {
      "cell_type": "code",
      "execution_count": null,
      "metadata": {
        "collapsed": false
      },
      "outputs": [],
      "source": [
        "# Enable and run the following command to close the desktop\nh3d.close_project()\nd.force_close_desktop()\nexamples.delete_downloads()"
      ]
    }
  ],
  "metadata": {
    "kernelspec": {
      "display_name": "Python 3",
      "language": "python",
      "name": "python3"
    },
    "language_info": {
      "codemirror_mode": {
        "name": "ipython",
        "version": 3
      },
      "file_extension": ".py",
      "mimetype": "text/x-python",
      "name": "python",
      "nbconvert_exporter": "python",
      "pygments_lexer": "ipython3",
      "version": "3.8.5"
    }
  },
  "nbformat": 4,
  "nbformat_minor": 0
}