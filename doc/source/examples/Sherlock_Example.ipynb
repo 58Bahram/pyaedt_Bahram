{
  "cells": [
    {
      "cell_type": "code",
      "execution_count": null,
      "metadata": {
        "collapsed": false
      },
      "outputs": [],
      "source": [
        "%matplotlib inline"
      ]
    },
    {
      "cell_type": "markdown",
      "metadata": {},
      "source": [
        "# HFSS-Icepack Coupling Analysis\r\n\r\nThis Example shows how to create an Icepak Project starting from\r\nSherlock Files (step and csv) and aedb board\r\n"
      ]
    },
    {
      "cell_type": "code",
      "execution_count": null,
      "metadata": {
        "collapsed": false
      },
      "outputs": [],
      "source": [
        "import time\nimport os\nimport datetime\nimport pathlib\nimport sys\n\nlocal_path = os.path.abspath('')\nmodule_path = pathlib.Path(local_path)\naedt_lib_path = module_path.parent\nsys.path.append(os.path.join(aedt_lib_path))\nfrom pyaedt import examples, generate_unique_name\ninput_dir = examples.download_sherlock()\ntemp_folder = os.path.join(os.environ[\"TEMP\"], generate_unique_name(\"Example\"))\nif not os.path.exists(temp_folder): os.makedirs(temp_folder)\nprint(temp_folder)"
      ]
    },
    {
      "cell_type": "markdown",
      "metadata": {},
      "source": [
        "Input Variables\r\n"
      ]
    },
    {
      "cell_type": "code",
      "execution_count": null,
      "metadata": {
        "collapsed": false
      },
      "outputs": [],
      "source": [
        "material_name = 'MaterialExport.csv'\ncomponent_properties =  'TutorialBoardPartsList.csv'\ncomponent_step = 'TutorialBoard.stp'\naedt_odb_project = 'SherlockTutorial.aedt'\naedt_odb_design_name = \"PCB\"\nstackup_thickness = 2.11836\noutline_polygon_name = \"poly_14188\""
      ]
    },
    {
      "cell_type": "markdown",
      "metadata": {},
      "source": [
        "Import pyaedt and start AEDT AEDT will run in nongraphical mode\r\n"
      ]
    },
    {
      "cell_type": "code",
      "execution_count": null,
      "metadata": {
        "collapsed": false
      },
      "outputs": [],
      "source": [
        "from pyaedt import Icepak\nfrom pyaedt import Desktop\nd=Desktop(\"2021.1\", NG=False)\nstart = time.time()\nmaterial_list = os.path.join(input_dir, material_name)\ncomponent_list = os.path.join(input_dir, component_properties)\nvalidation=os.path.join(temp_folder, \"validation.log\")\nfile_path=os.path.join(input_dir, component_step)\nproject_name = os.path.join(temp_folder, component_step[:-3]+\"aedt\")"
      ]
    },
    {
      "cell_type": "markdown",
      "metadata": {},
      "source": [
        "Create an Icepak project and delete Region to improve performances\r\n"
      ]
    },
    {
      "cell_type": "code",
      "execution_count": null,
      "metadata": {
        "collapsed": false
      },
      "outputs": [],
      "source": [
        "ipk = Icepak()\n# Removing region and disabling autosave to speedup import\nd.disable_autosave()\nipk.modeler.primitives.delete(\"Region\")\ncomponent_name = \"from_ODB\""
      ]
    },
    {
      "cell_type": "markdown",
      "metadata": {},
      "source": [
        "Import PCB from aedb file\r\n"
      ]
    },
    {
      "cell_type": "code",
      "execution_count": null,
      "metadata": {
        "collapsed": false
      },
      "outputs": [],
      "source": [
        "odb_path = os.path.join(input_dir, aedt_odb_project)\nipk.create_pcb_from_3dlayout(component_name, odb_path, aedt_odb_design_name,extenttype=\"Polygon\",\n                               outlinepolygon=outline_polygon_name)"
      ]
    },
    {
      "cell_type": "markdown",
      "metadata": {},
      "source": [
        "create an offset Coordinate system to match odb++ with sherlock step\r\nfile\r\n"
      ]
    },
    {
      "cell_type": "code",
      "execution_count": null,
      "metadata": {
        "collapsed": false
      },
      "outputs": [],
      "source": [
        "ipk.modeler.coordinate_system.create([0,0,stackup_thickness/2],view=\"XY\")"
      ]
    },
    {
      "cell_type": "markdown",
      "metadata": {},
      "source": [
        "import cad\r\n"
      ]
    },
    {
      "cell_type": "code",
      "execution_count": null,
      "metadata": {
        "collapsed": false
      },
      "outputs": [],
      "source": [
        "ipk.modeler.import_3d_cad(file_path, refresh_all_ids=False)\n#save cad and refresh properties from aedt file parsing\nipk.save_project(project_name, refresh_obj_ids_after_save=True)"
      ]
    },
    {
      "cell_type": "markdown",
      "metadata": {},
      "source": [
        "removing pcb objects\r\n"
      ]
    },
    {
      "cell_type": "code",
      "execution_count": null,
      "metadata": {
        "collapsed": false
      },
      "outputs": [],
      "source": [
        "ipk.modeler.primitives.delete_objects_containing(\"pcb\", False)"
      ]
    },
    {
      "cell_type": "markdown",
      "metadata": {},
      "source": [
        "Creating Region\r\n"
      ]
    },
    {
      "cell_type": "code",
      "execution_count": null,
      "metadata": {
        "collapsed": false
      },
      "outputs": [],
      "source": [
        "ipk.modeler.create_air_region(*[20,20,300,20,20,300])"
      ]
    },
    {
      "cell_type": "markdown",
      "metadata": {},
      "source": [
        "assigning Materials\r\n"
      ]
    },
    {
      "cell_type": "code",
      "execution_count": null,
      "metadata": {
        "collapsed": false
      },
      "outputs": [],
      "source": [
        "ipk.assignmaterial_from_sherlock_files(component_list, material_list)"
      ]
    },
    {
      "cell_type": "markdown",
      "metadata": {},
      "source": [
        "Deleting Object with no material Assignment\r\n"
      ]
    },
    {
      "cell_type": "code",
      "execution_count": null,
      "metadata": {
        "collapsed": false
      },
      "outputs": [],
      "source": [
        "no_material_objs = ipk.modeler.primitives.get_objects_by_material(\"\")\nipk.modeler.primitives.delete(no_material_objs)\n#ipk.modeler.set_object_model_state(all_objs, False)\nipk.save_project()"
      ]
    },
    {
      "cell_type": "markdown",
      "metadata": {},
      "source": [
        "Assign Power to Component Blocks\r\n"
      ]
    },
    {
      "cell_type": "code",
      "execution_count": null,
      "metadata": {
        "collapsed": false
      },
      "outputs": [],
      "source": [
        "all_objects = ipk.modeler.primitives.get_all_objects_names()\n# Assign Power blocks\ntotal_power = ipk.assign_block_from_sherlock_file(component_list)"
      ]
    },
    {
      "cell_type": "markdown",
      "metadata": {},
      "source": [
        "Setup and Boundaries\r\n"
      ]
    },
    {
      "cell_type": "code",
      "execution_count": null,
      "metadata": {
        "collapsed": false
      },
      "outputs": [],
      "source": [
        "ipk.mesh.automatic_mesh_pcb(4)\n\nsetup1 = ipk.create_setup()\nsetup1.props[\"Solution Initialization - Y Velocity\"] =  \"1m_per_sec\"\nsetup1.props[\"Radiation Model\"] =\"Discrete Ordinates Model\"\nsetup1.props[\"Include Gravity\"] =True\nsetup1.props[\"Secondary Gradient\"] =True\nsetup1.update()\nipk.assign_openings(ipk.modeler.primitives.get_object_faces(\"Region\"))"
      ]
    },
    {
      "cell_type": "markdown",
      "metadata": {},
      "source": [
        "Check for intersection using Validation and fix it by assigning\r\nPriorities\r\n"
      ]
    },
    {
      "cell_type": "code",
      "execution_count": null,
      "metadata": {
        "collapsed": false
      },
      "outputs": [],
      "source": [
        "ipk.assign_priority_on_intersections()\n# Saving and closing\nipk.save_project()\n\n\nend = time.time()-start\nipk.close_desktop()\nprint(\"Elapsed time: {}\".format(datetime.timedelta(seconds=end)))\nprint(\"Project Saved in {} \".format(temp_folder))"
      ]
    }
  ],
  "metadata": {
    "kernelspec": {
      "display_name": "Python 3",
      "language": "python",
      "name": "python3"
    },
    "language_info": {
      "codemirror_mode": {
        "name": "ipython",
        "version": 3
      },
      "file_extension": ".py",
      "mimetype": "text/x-python",
      "name": "python",
      "nbconvert_exporter": "python",
      "pygments_lexer": "ipython3",
      "version": "3.8.5"
    }
  },
  "nbformat": 4,
  "nbformat_minor": 0
}