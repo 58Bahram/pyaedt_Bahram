{
  "cells": [
    {
      "cell_type": "code",
      "execution_count": null,
      "metadata": {
        "collapsed": false
      },
      "outputs": [],
      "source": [
        "%matplotlib inline"
      ]
    },
    {
      "cell_type": "markdown",
      "metadata": {},
      "source": [
        "# Q3D Bus Bar Analysis\r\n\r\nThis tutorial shows how you can use PyAedt to create a project in in Q3D\r\nand run a simulation\r\n"
      ]
    },
    {
      "cell_type": "code",
      "execution_count": null,
      "metadata": {
        "collapsed": false
      },
      "outputs": [],
      "source": [
        "import os\nimport sys\nimport pathlib\nimport glob\nfrom IPython.display import Image\nlocal_path = os.path.abspath('')\nmodule_path = pathlib.Path(local_path)\naedt_lib_path = module_path.parent.parent.parent\nsys.path.append(os.path.join(aedt_lib_path))\n\nfrom pyaedt import Desktop\nfrom pyaedt import Q3d"
      ]
    },
    {
      "cell_type": "markdown",
      "metadata": {},
      "source": [
        "# Launch Desktop and Q3D\r\n\r\nThis examples will use AEDT 2021.1 in Graphical mode\r\n"
      ]
    },
    {
      "cell_type": "code",
      "execution_count": null,
      "metadata": {
        "collapsed": false
      },
      "outputs": [],
      "source": [
        "# This examples will use SI units.\nd = Desktop(\"2021.1\",False, False)\n\nq=Q3d()"
      ]
    },
    {
      "cell_type": "markdown",
      "metadata": {},
      "source": [
        "# Primitives Creation\r\n\r\nHere pyaedt will create polylines for the three busbur and box for the\r\nsubstrate\r\n"
      ]
    },
    {
      "cell_type": "code",
      "execution_count": null,
      "metadata": {
        "collapsed": false
      },
      "outputs": [],
      "source": [
        "q.modeler.primitives.create_polyline([[0,0,0], [-100,0,0]], name=\"Bar1\", matname=\"copper\")\nq.modeler.primitives.create_polyline_with_crosssection(\"Bar1\",width=\"5mm\")\n\n\nq.modeler.primitives.create_polyline([[0,-15,0], [-150,-15,0]], name=\"Bar2\", matname=\"aluminum\")\nq.modeler.primitives.create_polyline_with_crosssection(\"Bar2\",width=\"5mm\")\n\n\nq.modeler.primitives.create_polyline([[0,-30,0], [-175,-30,0], [-175,-10,0]], name=\"Bar3\", matname=\"copper\")\nq.modeler.primitives.create_polyline_with_crosssection(\"Bar3\",width=\"5mm\")\n\nq.modeler.primitives.create_box([50,30,-0.5], [-250,-100,-3], name=\"substrate\", matname=\"FR4_epoxy\")"
      ]
    },
    {
      "cell_type": "markdown",
      "metadata": {},
      "source": [
        "# Boundary Setup\r\n\r\nHere pyaedt will identify nets and assign source and sink to all netsp\r\n"
      ]
    },
    {
      "cell_type": "code",
      "execution_count": null,
      "metadata": {
        "collapsed": false
      },
      "outputs": [],
      "source": [
        "q.auto_identify_nets()\n\nq.assign_source_to_objectface(\"Bar1\",axisdir=q.AxisDir.XPos, source_name=\"Source1\")\n\nq.assign_sink_to_objectface(\"Bar1\",axisdir=q.AxisDir.XNeg, sink_name=\"Sink1\")\n\nq.assign_source_to_objectface(\"Bar2\",axisdir=q.AxisDir.XPos, source_name=\"Source2\")\nq.assign_sink_to_objectface(\"Bar2\",axisdir=q.AxisDir.XNeg, sink_name=\"Sink2\")\nq.assign_source_to_objectface(\"Bar3\",axisdir=q.AxisDir.XPos, source_name=\"Source3\")\nq.assign_sink_to_objectface(\"Bar3\",axisdir=q.AxisDir.YPos, sink_name=\"Sink3\")\n\nq.create_setup(props={\"AdaptiveFreq\":\"100MHz\"})\n\nq.post.create_rectangular_plot(\"C(Bar1,Bar1)\",context=\"Original\")\n\nq.analyse_nominal()\n\nd.force_close_desktop()"
      ]
    }
  ],
  "metadata": {
    "kernelspec": {
      "display_name": "Python 3",
      "language": "python",
      "name": "python3"
    },
    "language_info": {
      "codemirror_mode": {
        "name": "ipython",
        "version": 3
      },
      "file_extension": ".py",
      "mimetype": "text/x-python",
      "name": "python",
      "nbconvert_exporter": "python",
      "pygments_lexer": "ipython3",
      "version": "3.8.5"
    }
  },
  "nbformat": 4,
  "nbformat_minor": 0
}