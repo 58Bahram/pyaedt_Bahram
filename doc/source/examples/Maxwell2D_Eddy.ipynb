{
  "cells": [
    {
      "cell_type": "code",
      "execution_count": null,
      "metadata": {
        "collapsed": false
      },
      "outputs": [],
      "source": [
        "%matplotlib inline"
      ]
    },
    {
      "cell_type": "markdown",
      "metadata": {},
      "source": [
        "# Maxwell 2D Coil Analysis\r\n\r\nThis tutorial shows how you can use PyAedt to create a project in in\r\nMaxwell2D and run a simulation\r\n"
      ]
    },
    {
      "cell_type": "code",
      "execution_count": null,
      "metadata": {
        "collapsed": false
      },
      "outputs": [],
      "source": [
        "import sys\nimport os\nimport pathlib\nimport shutil\nimport time\nimport numpy as np\nimport matplotlib.pyplot as plt\n\nlocal_path = os.path.abspath('')\nmodule_path = pathlib.Path(local_path)\nroot_path = module_path.parent.parent\nroot_path2 = root_path.parent\nsys.path.append(os.path.join(root_path))\nsys.path.append(os.path.join(root_path2))\n\nfrom pyaedt import Desktop\nfrom pyaedt import Maxwell3d\nfrom pyaedt import generate_unique_name\n\nproject_dir = os.path.join(os.environ[\"TEMP\"], generate_unique_name(\"Example\"))\nif not os.path.exists(project_dir): os.makedirs(project_dir)\nprint(project_dir)\n\n\nif not \"oDesk\" in dir():\n    oDesk = Desktop(specified_version=\"2021.1\", NG=True)\nproject_name = 'test'\nproject_name = os.path.join(project_dir, project_name + '.aedt')"
      ]
    },
    {
      "cell_type": "markdown",
      "metadata": {},
      "source": [
        "2.  Insert a Maxwell design and instantiate Geometry modeler.\r\n"
      ]
    },
    {
      "cell_type": "code",
      "execution_count": null,
      "metadata": {
        "collapsed": false
      },
      "outputs": [],
      "source": [
        "M3D = Maxwell3d(solution_type=\"EddyCurrent\")\nGEO = M3D.modeler\nGEO.model_units = \"mm\"\nCS = GEO.coordinate_system"
      ]
    },
    {
      "cell_type": "markdown",
      "metadata": {},
      "source": [
        "3.  Create the Model\r\n"
      ]
    },
    {
      "cell_type": "code",
      "execution_count": null,
      "metadata": {
        "collapsed": false
      },
      "outputs": [],
      "source": [
        "plate = GEO.primitives.create_box([0, 0, 0], [294, 294, 19], name=\"Plate\", matname=\"aluminum\")\nhole = GEO.primitives.create_box([18, 18, 0], [108, 108, 19], name=\"Hole\")\n\n\nGEO.subtract([plate], [hole])\nM3D.assignmaterial(plate, \"aluminum\")\nM3D.solve_inside(\"Plate\")\nadaptive_frequency = \"200Hz\"\np_plate = M3D.post.volumetric_loss(\"Plate\")  # Create fields postprocessing variable for loss in object Plate\nM3D.save_project(project_name)  # unable to save file by passing the file name or directory as an argument."
      ]
    },
    {
      "cell_type": "markdown",
      "metadata": {},
      "source": [
        "Create coil\r\n"
      ]
    },
    {
      "cell_type": "code",
      "execution_count": null,
      "metadata": {
        "collapsed": false
      },
      "outputs": [],
      "source": [
        "center_hole = M3D.modeler.Position(119, 25, 49)\ncenter_coil = M3D.modeler.Position(94, 0, 49)\ncoil_hole = GEO.primitives.create_box(center_hole, [150, 150, 100], name=\"Coil_Hole\")  # All positions in model units\ncoil = GEO.primitives.create_box(center_coil, [200, 200, 100], name=\"Coil\")  # All positions in model units\nGEO.subtract([coil], [coil_hole])\nM3D.assignmaterial(coil, \"copper\")\nM3D.solve_inside(\"Coil\")\np_coil = M3D.post.volumetric_loss(\"Coil\")"
      ]
    },
    {
      "cell_type": "markdown",
      "metadata": {},
      "source": [
        "Create relative coordinate system\r\n"
      ]
    },
    {
      "cell_type": "code",
      "execution_count": null,
      "metadata": {
        "collapsed": false
      },
      "outputs": [],
      "source": [
        "CS.create([200, 100, 0], view=\"XY\", name=\"Coil_CS\")"
      ]
    },
    {
      "cell_type": "markdown",
      "metadata": {},
      "source": [
        "Create coil terminal\r\n"
      ]
    },
    {
      "cell_type": "code",
      "execution_count": null,
      "metadata": {
        "collapsed": false
      },
      "outputs": [],
      "source": [
        "GEO.section([\"Coil\"], M3D.CoordinateSystemPlane.ZXPlane)\nGEO.separate_bodies([\"Coil_Section1\"])\nGEO.primitives.delete(\"Coil_Section1_Separate1\")\nM3D.assign_current([\"Coil_Section1\"], amplitude=2472)"
      ]
    },
    {
      "cell_type": "markdown",
      "metadata": {},
      "source": [
        "draw region\r\n"
      ]
    },
    {
      "cell_type": "code",
      "execution_count": null,
      "metadata": {
        "collapsed": false
      },
      "outputs": [],
      "source": [
        "M3D.modeler.create_air_region(*[300] * 6)"
      ]
    },
    {
      "cell_type": "markdown",
      "metadata": {},
      "source": [
        "set eddy effects\r\n"
      ]
    },
    {
      "cell_type": "code",
      "execution_count": null,
      "metadata": {
        "collapsed": false
      },
      "outputs": [],
      "source": [
        "M3D.eddy_effects_on(['Plate'])\nSetup = M3D.create_setup()\nSetup.props[\"MaximumPasses\"] = 12\nSetup.props[\"MinimumPasses\"] = 2\nSetup.props[\"MinimumConvergedPasses\"] = 1\nSetup.props[\"PercentRefinement\"] = 30\nSetup.props[\"Frequency\"] = adaptive_frequency\nSetup.props[\"HasSweepSetup\"] = True\nSetup.props[\"StartValue\"] = \"1e-08GHz\"\nSetup.props[\"StopValue\"] = \"1e-06GHz\"\nSetup.props[\"StepSize\"] = \"2e-08GHz\"\n\nSetup.update()\nSetup.enable_expression_cache([p_plate, p_coil], \"Fields\", \"Phase=\\'0deg\\' \", True)"
      ]
    },
    {
      "cell_type": "markdown",
      "metadata": {},
      "source": [
        "4.  Solve\r\n"
      ]
    },
    {
      "cell_type": "code",
      "execution_count": null,
      "metadata": {
        "collapsed": false
      },
      "outputs": [],
      "source": [
        "M3D.analyse_nominal()\n\n\n\nval = M3D.post.get_report_data(expression=\"SolidLoss\")\n\n\n\nM3D.post.report_types"
      ]
    },
    {
      "cell_type": "markdown",
      "metadata": {},
      "source": [
        "Plot Results\r\n"
      ]
    },
    {
      "cell_type": "code",
      "execution_count": null,
      "metadata": {
        "collapsed": false
      },
      "outputs": [],
      "source": [
        "fig, ax = plt.subplots(figsize=(20, 10))\n\nax.set(xlabel='Frequency (Hz)', ylabel='Solid Losses (W)', title='Losses Chart')\nax.grid()\nmag_data = np.array(val.data_magnitude())\nfreq_data = np.array([i * 1e9 for i in val.sweeps[\"Freq\"]])\nax.plot(freq_data, mag_data)\nplt.show()"
      ]
    },
    {
      "cell_type": "markdown",
      "metadata": {},
      "source": [
        "5.Savethe project and release the desktop object Save the project and\r\nclose it. oDesk.release_desktop(close_projects=True) \\# doesn\\'t work\r\nfrom Jupyter\r\n"
      ]
    },
    {
      "cell_type": "code",
      "execution_count": null,
      "metadata": {
        "collapsed": false
      },
      "outputs": [],
      "source": [
        "M3D.save_project(project_name)\noDesk.force_close_desktop()  # Use this from Jupyter"
      ]
    }
  ],
  "metadata": {
    "kernelspec": {
      "display_name": "Python 3",
      "language": "python",
      "name": "python3"
    },
    "language_info": {
      "codemirror_mode": {
        "name": "ipython",
        "version": 3
      },
      "file_extension": ".py",
      "mimetype": "text/x-python",
      "name": "python",
      "nbconvert_exporter": "python",
      "pygments_lexer": "ipython3",
      "version": "3.8.5"
    }
  },
  "nbformat": 4,
  "nbformat_minor": 0
}