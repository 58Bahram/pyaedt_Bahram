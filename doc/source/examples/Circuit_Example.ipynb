{
  "cells": [
    {
      "cell_type": "code",
      "execution_count": null,
      "metadata": {
        "collapsed": false
      },
      "outputs": [],
      "source": [
        "%matplotlib inline"
      ]
    },
    {
      "cell_type": "markdown",
      "metadata": {},
      "source": [
        "# Circuit Example Analysis\r\n\r\nThis tutorial shows how you can use PyAedt to create a project in in\r\nNEXXIM Circuit and run a simulation\r\n"
      ]
    },
    {
      "cell_type": "code",
      "execution_count": null,
      "metadata": {
        "collapsed": false
      },
      "outputs": [],
      "source": [
        "from pyaedt import Circuit\nfrom pyaedt import Desktop"
      ]
    },
    {
      "cell_type": "markdown",
      "metadata": {},
      "source": [
        "# Launch Desktop and Circuit\r\n\r\nThis examples will use AEDT 2021.1 in Graphical mode\r\n"
      ]
    },
    {
      "cell_type": "code",
      "execution_count": null,
      "metadata": {
        "collapsed": false
      },
      "outputs": [],
      "source": [
        "# This examples will use SI units.\n\ndesktopVersion = \"2021.1\"\nNonGraphical = False\nNewThread = False\nd = Desktop(desktopVersion, NonGraphical, NewThread)\naedtapp = Circuit()"
      ]
    },
    {
      "cell_type": "markdown",
      "metadata": {},
      "source": [
        "# Create Circuit Setup\r\n\r\nThis method create and customize a Linear Network Analysis Setup\r\n"
      ]
    },
    {
      "cell_type": "code",
      "execution_count": null,
      "metadata": {
        "collapsed": false
      },
      "outputs": [],
      "source": [
        "setup1 = aedtapp.create_setup(\"MyLNA\")\nsetup1.SweepDefinition = [('Variable', 'Freq'), ('Data', 'LINC 0GHz 4GHz 10001'), ('OffsetF1', False),\n                          ('Synchronize', 0)]\nsetup1.update()"
      ]
    },
    {
      "cell_type": "markdown",
      "metadata": {},
      "source": [
        "# Create Components\r\n\r\nThis method create components\r\n"
      ]
    },
    {
      "cell_type": "code",
      "execution_count": null,
      "metadata": {
        "collapsed": false
      },
      "outputs": [],
      "source": [
        "myindid, myind = aedtapp.modeler.components.create_inductor(\"L1\", 1e-9, 0, 0)\nmyresid, myres = aedtapp.modeler.components.create_resistor(\"R1\", 50, 0.0254, 0)\nmycapid, mycap = aedtapp.modeler.components.create_capacitor(\"C1\", 1e-12, 0.0400, 0)\npins_res = aedtapp.modeler.components.get_pins(myres)\n\nind1 = aedtapp.modeler.components[myind]\nres1 = aedtapp.modeler.components[myres]"
      ]
    },
    {
      "cell_type": "markdown",
      "metadata": {},
      "source": [
        "# Create Ports\r\n\r\nThis method create ports\r\n"
      ]
    },
    {
      "cell_type": "code",
      "execution_count": null,
      "metadata": {
        "collapsed": false
      },
      "outputs": [],
      "source": [
        "portid, portname = aedtapp.modeler.components.create_iport(\"myport\", -0.0254, 0)\ngndid, gndname = aedtapp.modeler.components.create_gnd(0.0508, -0.00254)"
      ]
    },
    {
      "cell_type": "markdown",
      "metadata": {},
      "source": [
        "# Connect Components\r\n\r\nThis method connect components with wires\r\n"
      ]
    },
    {
      "cell_type": "code",
      "execution_count": null,
      "metadata": {
        "collapsed": false
      },
      "outputs": [],
      "source": [
        "aedtapp.modeler.connect_schematic_components(portid, myindid)\naedtapp.modeler.connect_schematic_components(myindid, myresid, pinnum_second=2)\naedtapp.modeler.connect_schematic_components(myresid, mycapid, pinnum_first=1)\naedtapp.modeler.connect_schematic_components(mycapid, gndid)"
      ]
    },
    {
      "cell_type": "markdown",
      "metadata": {},
      "source": [
        "# Add a transient Setup\r\n\r\nThis method add a transient setup\r\n"
      ]
    },
    {
      "cell_type": "code",
      "execution_count": null,
      "metadata": {
        "collapsed": false
      },
      "outputs": [],
      "source": [
        "setup2 = aedtapp.create_setup(\"MyTransient\", aedtapp.SimulationSetupTypes.NexximTransient)\nsetup2.TransientData = [\"0.01ns\", \"200ns\"]\nsetup2.update()\nsetup3 = aedtapp.create_setup(\"MyDC\", aedtapp.SimulationSetupTypes.NexximDC)"
      ]
    },
    {
      "cell_type": "markdown",
      "metadata": {},
      "source": [
        "# Solve Setup\r\n\r\nThis method solve transient setup\r\n"
      ]
    },
    {
      "cell_type": "code",
      "execution_count": null,
      "metadata": {
        "collapsed": false
      },
      "outputs": [],
      "source": [
        "aedtapp.analyze_setup(\"MyLNA\")\n\nprint(\"Done\")\nd.force_close_desktop()"
      ]
    }
  ],
  "metadata": {
    "kernelspec": {
      "display_name": "Python 3",
      "language": "python",
      "name": "python3"
    },
    "language_info": {
      "codemirror_mode": {
        "name": "ipython",
        "version": 3
      },
      "file_extension": ".py",
      "mimetype": "text/x-python",
      "name": "python",
      "nbconvert_exporter": "python",
      "pygments_lexer": "ipython3",
      "version": "3.8.5"
    }
  },
  "nbformat": 4,
  "nbformat_minor": 0
}