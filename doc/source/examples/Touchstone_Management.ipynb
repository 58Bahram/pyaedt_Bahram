{
  "cells": [
    {
      "cell_type": "code",
      "execution_count": null,
      "metadata": {
        "collapsed": false
      },
      "outputs": [],
      "source": [
        "%matplotlib inline"
      ]
    },
    {
      "cell_type": "markdown",
      "metadata": {},
      "source": [
        "# Touchstone Management\r\n\r\nThis Example shows how to use Touchstone objects without opening AEDT\r\n"
      ]
    },
    {
      "cell_type": "code",
      "execution_count": null,
      "metadata": {
        "collapsed": false
      },
      "outputs": [],
      "source": [
        "import sys\nimport os\nimport pathlib\nimport shutil\nimport time\nlocal_path = os.path.abspath('')\nmodule_path = pathlib.Path(local_path)\nroot_path = module_path.parent\nroot_path2 = root_path.parent\nroot_path3 = root_path2.parent\npath1=os.path.join(root_path2)\npath2=os.path.join(root_path3)\nsys.path.append(path1)\nsys.path.append(path2)\nfrom pyaedt import examples\nexample_path = examples.download_touchstone()"
      ]
    },
    {
      "cell_type": "code",
      "execution_count": null,
      "metadata": {
        "collapsed": false
      },
      "outputs": [],
      "source": [
        "from pyaedt.generic.TouchstoneParser import *\nimport numpy as np\nimport matplotlib.pyplot as plt"
      ]
    },
    {
      "cell_type": "code",
      "execution_count": null,
      "metadata": {
        "collapsed": false
      },
      "outputs": [],
      "source": [
        "data = read_touchstone(example_path)"
      ]
    },
    {
      "cell_type": "markdown",
      "metadata": {},
      "source": [
        "Get Curves names\r\n"
      ]
    },
    {
      "cell_type": "code",
      "execution_count": null,
      "metadata": {
        "collapsed": false
      },
      "outputs": [],
      "source": [
        "rl_list = get_return_losses(data.ports)\nil_list = get_insertion_losses_from_prefix(data.ports,\"U1\", \"U7\")\nfext_list = get_fext_xtalk_from_prefix(data.ports,\"U1\",\"U7\")\nnext_list = get_next_xtalk(data.ports,\"U1\")"
      ]
    },
    {
      "cell_type": "markdown",
      "metadata": {},
      "source": [
        "Get Curves worst Cases\r\n"
      ]
    },
    {
      "cell_type": "code",
      "execution_count": null,
      "metadata": {
        "collapsed": false
      },
      "outputs": [],
      "source": [
        "worst_rl, global_mean = get_worst_curve_from_solution_data(data,freq_min=1, freq_max=20,worst_is_higher=True,curve_list=rl_list)\nworst_il, mean2 = get_worst_curve_from_solution_data(data,freq_min=1, freq_max=20,worst_is_higher=False,curve_list=il_list)\nworst_fext, mean3 = get_worst_curve_from_solution_data(data,freq_min=1, freq_max=20,worst_is_higher=True,curve_list=fext_list)\nworst_next, mean4 = get_worst_curve_from_solution_data(data,freq_min=1, freq_max=20,worst_is_higher=True,curve_list=next_list)"
      ]
    },
    {
      "cell_type": "markdown",
      "metadata": {},
      "source": [
        "Plot Curves\r\n"
      ]
    },
    {
      "cell_type": "code",
      "execution_count": null,
      "metadata": {
        "collapsed": false
      },
      "outputs": [],
      "source": [
        "fig, ax = plt.subplots(figsize=(20, 10))\nax.set(xlabel='Frequency (Hz)', ylabel='Return Loss (dB)', title='Return Loss')\nax.grid()\nmag_data = 20*np.log10(np.array(data.solutions_data_mag[worst_rl]))\nfreq_data = np.array([i*1e9 for i in data.sweeps[\"Freq\"]])\nax.plot(freq_data, mag_data, label=worst_rl)\nmag_data2 = 20*np.log10(np.array(data.solutions_data_mag[worst_il]))\nax.plot(freq_data, mag_data2, label=worst_il)\nmag_data3 = 20*np.log10(np.array(data.solutions_data_mag[worst_fext]))\nax.plot(freq_data, mag_data3, label=worst_fext)\nmag_data4 = 20*np.log10(np.array(data.solutions_data_mag[worst_next]))\nax.plot(freq_data, mag_data4,label=worst_next)\nax.legend([\"Worst RL=\"+worst_rl,\"Worst IL=\"+worst_il,\"Worst FEXT=\"+worst_fext,\"Worst NEXT=\"+worst_next])\nplt.show()"
      ]
    }
  ],
  "metadata": {
    "kernelspec": {
      "display_name": "Python 3",
      "language": "python",
      "name": "python3"
    },
    "language_info": {
      "codemirror_mode": {
        "name": "ipython",
        "version": 3
      },
      "file_extension": ".py",
      "mimetype": "text/x-python",
      "name": "python",
      "nbconvert_exporter": "python",
      "pygments_lexer": "ipython3",
      "version": "3.8.5"
    }
  },
  "nbformat": 4,
  "nbformat_minor": 0
}